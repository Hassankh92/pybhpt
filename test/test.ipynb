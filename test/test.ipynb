{
 "cells": [
  {
   "cell_type": "code",
   "execution_count": 1,
   "metadata": {},
   "outputs": [],
   "source": [
    "from pybhpt.geo import KerrGeodesic\n",
    "from pybhpt.radial import RadialTeukolsky\n",
    "from pybhpt.teuk import TeukolskyMode\n",
    "from pybhpt.hertz import HertzMode\n",
    "import numpy as np\n",
    "import matplotlib.pyplot as plt"
   ]
  },
  {
   "attachments": {},
   "cell_type": "markdown",
   "metadata": {},
   "source": [
    "# Teukolsky Tests"
   ]
  },
  {
   "cell_type": "code",
   "execution_count": 2,
   "metadata": {},
   "outputs": [],
   "source": [
    "from pybhpt.geo import kerrgeo_Vr\n",
    "import numpy as np\n",
    "def u2_ecc(geo):\n",
    "    a = geo.blackholespin\n",
    "    rp = geo.radialpoints\n",
    "    En = geo.orbitalenergy\n",
    "    Lz = geo.orbitalangularmomentum\n",
    "    deltaUr = np.array([np.sqrt(kerrgeo_Vr(a, En, Lz, 0., r)) for r in rp])\n",
    "    u2up = pow(rp*rp - 2.*rp + a*a, -1)*(En*(rp*rp + a*a) - a*Lz - deltaUr)\n",
    "    u2down = pow(rp*rp - 2.*rp + a*a, -1)*(En*(rp*rp + a*a) - a*Lz + deltaUr)\n",
    "    return np.concatenate((u2up, np.flip(u2down)[1:-1]))\n",
    "\n",
    "def u3_ecc(geo):\n",
    "    a = geo.blackholespin\n",
    "    r = geo.radialpoints\n",
    "    En = geo.orbitalenergy\n",
    "    Lz = geo.orbitalangularmomentum\n",
    "    z = 0.\n",
    "    I = 1.j\n",
    "    Uz = 0.\n",
    "    u3up = (-I)*Uz*pow(I*r + a*z,-1)*pow(2. - 2.*pow(z,2),-0.5) + (Lz + a*En*(-1. + pow(z,2)))*pow(I*r + a*z,-1)*pow(2. - 2.*pow(z,2),-0.5)\n",
    "    u3down = u3up\n",
    "    return np.concatenate((u3up, np.flip(u3down)[1:-1]))\n",
    "\n",
    "def u4_ecc(geo):\n",
    "    return np.conj(u3_ecc(geo))"
   ]
  },
  {
   "cell_type": "code",
   "execution_count": 3,
   "metadata": {},
   "outputs": [],
   "source": [
    "from pybhpt.geo import KerrGeodesic\n",
    "from pybhpt.redshift import RedshiftCoefficients, SphericalHarmonicCoupling\n",
    "geo = KerrGeodesic(0., 10., 0., 1.0, 2**6)\n",
    "huucoeffIRG = RedshiftCoefficients(\"IRG\", geo)\n",
    "huucoeffORG = RedshiftCoefficients(\"ORG\", geo)\n",
    "huucoeffSAAB0 = RedshiftCoefficients(\"SAAB0\", geo)\n",
    "huucoeffSAAB4 = RedshiftCoefficients(\"SAAB4\", geo)"
   ]
  },
  {
   "cell_type": "code",
   "execution_count": 4,
   "metadata": {},
   "outputs": [],
   "source": [
    "from pybhpt.redshift import metric_coefficients_IRG\n",
    "def huucoeff_ecc_check(a, b, c, d, geo):\n",
    "    q = geo.blackholespin\n",
    "    rhalf = geo.radialpoints\n",
    "    rp = np.concatenate((rhalf, np.flip(rhalf)[1:-1]))\n",
    "    z = 0.\n",
    "    h22 = np.array([metric_coefficients_IRG(2, 2, a, b, c, d, q, r, z) for r in rp])\n",
    "    h24 = np.array([metric_coefficients_IRG(2, 4, a, b, c, d, q, r, z) for r in rp])\n",
    "    h44 = np.array([metric_coefficients_IRG(4, 4, a, b, c, d, q, r, z) for r in rp])\n",
    "    u2 = u2_ecc(geo)\n",
    "    u4 = u4_ecc(geo)\n",
    "    return h22*u2*u2 + 2.*h24*u2*u4 + h44*u4*u4"
   ]
  },
  {
   "cell_type": "code",
   "execution_count": 5,
   "metadata": {},
   "outputs": [],
   "source": [
    "# for a in range(3):\n",
    "#     for b in range(3):\n",
    "#         for c in range(3):\n",
    "#             for d in range(3):\n",
    "#                 if a + b + c + d <= 2:\n",
    "#                     print(a, b, c, d)\n",
    "#                     huuCheckFoo = [huucoeffIRG(0, a, b, c, d, i, 1) for i in range(2**6)]\n",
    "#                     if np.abs(np.sum(huuCheckFoo)) > 0.:\n",
    "#                         # foocheck = 1. - huuCheckFoo/huucoeff_ecc_check(a, b, c, d, geo)\n",
    "#                         foocheck = huuCheckFoo - huucoeff_ecc_check(a, b, c, d, geo)\n",
    "#                         print(np.max(np.abs(foocheck)))\n",
    "#                         print(np.mean(huuCheckFoo))"
   ]
  },
  {
   "cell_type": "code",
   "execution_count": 6,
   "metadata": {},
   "outputs": [],
   "source": [
    "from pybhpt.redshift import metric_coefficients_IRG\n",
    "def u2_circ_norm(geo):\n",
    "    Omega = geo.frequencies[-1]\n",
    "    q = geo.blackholespin\n",
    "    return (1. - q*Omega)\n",
    "\n",
    "def u4_circ_norm(geo):\n",
    "    Omega = geo.frequencies[-1]\n",
    "    q = geo.blackholespin\n",
    "    r0 = geo.semilatusrectum\n",
    "    rhobar = -1./(r0 + 1j*q)\n",
    "    return 1.j*rhobar*(q - (r0**2 + q**2)*Omega)/np.sqrt(2.)\n",
    "\n",
    "def ut_circ(geo):\n",
    "    v = 1./np.sqrt(geo.semilatusrectum)\n",
    "    q = geo.blackholespin\n",
    "    return (1. + q*v**3)/(np.sqrt(1 - 3*v**2 + 2.*q*v**3))\n",
    "\n",
    "def u2_comp(geo):\n",
    "    a = geo.blackholespin\n",
    "    rp = geo.semilatusrectum\n",
    "    En = geo.orbitalenergy\n",
    "    Lz = geo.orbitalangularmomentum\n",
    "    ut = ut_circ(geo)\n",
    "    u2 = u2_circ_norm(geo)*ut\n",
    "    u2_cpp = pow(rp*rp - 2.*rp + a*a, -1)*(En*(rp*rp + a*a) - a*Lz)\n",
    "    return (1. - u2/u2_cpp)\n",
    "\n",
    "def u4_comp(geo):\n",
    "    a = geo.blackholespin\n",
    "    r = geo.semilatusrectum\n",
    "    En = geo.orbitalenergy\n",
    "    Lz = geo.orbitalangularmomentum\n",
    "    z = 0.\n",
    "    I = 1.j\n",
    "    ut = ut_circ(geo)\n",
    "    u4 = u4_circ_norm(geo)*ut\n",
    "    Uz = 0.\n",
    "    u3_cpp = (-I)*Uz*pow(I*r + a*z,-1)*pow(2. - 2.*pow(z,2),-0.5) + (Lz + a*En*(-1. + pow(z,2)))*pow(I*r + a*z,-1)*pow(2. - 2.*pow(z,2),-0.5)\n",
    "    return (1. - u4/np.conj(u3_cpp))\n",
    "\n",
    "def huuIRGTest(geo, nt, nr, nc, np):\n",
    "    r = geo.semilatusrectum\n",
    "    z = 0.\n",
    "    a = geo.blackholespin\n",
    "    h22 = metric_coefficients_IRG(2, 2, nt, nr, nc, np, a, r, z)\n",
    "    h24 = metric_coefficients_IRG(2, 4, nt, nr, nc, np, a, r, z)\n",
    "    h44 = metric_coefficients_IRG(4, 4, nt, nr, nc, np, a, r, z)\n",
    "    ut = ut_circ(geo)\n",
    "    u2 = u2_circ_norm(geo)*ut\n",
    "    u4 = u4_circ_norm(geo)*ut\n",
    "    return 0.5*h22*u2*u2 + 2.*h24*u2*u4 + h44*u4*u4"
   ]
  },
  {
   "cell_type": "code",
   "execution_count": 7,
   "metadata": {},
   "outputs": [],
   "source": [
    "# for a in range(3):\n",
    "#     for b in range(3):\n",
    "#         for c in range(3):\n",
    "#             for d in range(3):\n",
    "#                 if a + b + c + d <= 2:\n",
    "#                     print(a, b, c, d)\n",
    "#                     print(np.abs(huuIRGTest(geoCirc, a, b, c, d)-1.*huucoeffIRG(0, a, b, c, d)))"
   ]
  },
  {
   "cell_type": "code",
   "execution_count": 8,
   "metadata": {},
   "outputs": [],
   "source": [
    "def h22_coeff_check(r):\n",
    "    h22_schw_0020 = -1./(4.*r**2)\n",
    "    h22_0020 = 0.5*metric_coefficients_IRG(2, 2, 0, 0, 2, 0, 0, r, 0)\n",
    "    return 1. - h22_schw_0020/h22_0020\n",
    "\n",
    "def h24_coeff_check(r):\n",
    "    factor = -1/(2.*np.sqrt(2.)*r**2*(r - 2.))\n",
    "    h24_schw_0010 = 2*(r-2)*factor\n",
    "    h24_schw_1010 = -r**2*factor\n",
    "    h24_schw_0110 = -r*(r-2)*factor\n",
    "    h24_0010 = 0.5*metric_coefficients_IRG(2, 4, 0, 0, 1, 0, 0, r, 0)\n",
    "    h24_1010 = 0.5*metric_coefficients_IRG(2, 4, 1, 0, 1, 0, 0, r, 0)\n",
    "    h24_0110 = 0.5*metric_coefficients_IRG(2, 4, 0, 1, 1, 0, 0, r, 0)\n",
    "    return 1. - h24_schw_0010/h24_0010, 1. - h24_schw_1010/h24_1010, 1. - h24_schw_0110/h24_0110\n",
    "\n",
    "def h44_coeff_check(r):\n",
    "    factor = 1./(2.*r*(r - 2)**2)\n",
    "    h44_schw_1000 = (-2.*r + 2*r**2)*factor \n",
    "    h44_schw_2000 = (-r**3)*factor\n",
    "    h44_schw_0100 = ((2 - r)*(4 - 2.*r))*factor\n",
    "    h44_schw_1100 = ((2 - r)*(2*r**2))*factor\n",
    "    h44_schw_0200 = (r*(r - 2)*(2 - r))*factor\n",
    "    h44_1000 = 0.5*metric_coefficients_IRG(4, 4, 1, 0, 0, 0, 0, r, 0)\n",
    "    h44_2000 = 0.5*metric_coefficients_IRG(4, 4, 2, 0, 0, 0, 0, r, 0)\n",
    "    h44_0100 = 0.5*metric_coefficients_IRG(4, 4, 0, 1, 0, 0, 0, r, 0)\n",
    "    h44_1100 = 0.5*metric_coefficients_IRG(4, 4, 1, 1, 0, 0, 0, r, 0)\n",
    "    h44_0200 = 0.5*metric_coefficients_IRG(4, 4, 0, 2, 0, 0, 0, r, 0)\n",
    "    return 1. - h44_schw_1000/h44_1000, 1. - h44_schw_2000/h44_2000, 1. - h44_schw_0100/h44_0100, 1. - h44_schw_1100/h44_1100, 1. - h44_schw_0200/h44_0200"
   ]
  },
  {
   "cell_type": "code",
   "execution_count": 9,
   "metadata": {},
   "outputs": [],
   "source": [
    "def huu_coeff_check(geo, coeffs):\n",
    "    r = geo.semilatusrectum\n",
    "    Omega = geo.frequencies[-1]\n",
    "    factor24 = -1/(2.*np.sqrt(2.)*r**2*(r - 2.))\n",
    "    factor44 = 1./(2.*r*(r - 2)**2)\n",
    "\n",
    "    h22_schw_0020 = -1./(4.*r**2)\n",
    "    h24_schw_0010 = 2*(r-2)*factor24\n",
    "    h24_schw_1010 = -r**2*factor24\n",
    "    h24_schw_0110 = -r*(r-2)*factor24\n",
    "    h44_schw_1000 = (-2.*r + 2*r**2)*factor44 \n",
    "    h44_schw_2000 = (-r**3)*factor44\n",
    "    h44_schw_0100 = ((2 - r)*(4 - 2.*r))*factor44\n",
    "    h44_schw_1100 = ((2 - r)*(2*r**2))*factor44\n",
    "    h44_schw_0200 = (r*(r - 2)*(2 - r))*factor44\n",
    "    u2 = ut_circ(geo)\n",
    "    u4 = 1.j/np.sqrt(2.)*r*ut_circ(geo)*Omega\n",
    "\n",
    "    huu_0020 = h22_schw_0020*u2*u2\n",
    "    huu_0010 = 2.*h24_schw_0010*u2*u4\n",
    "    huu_1010 = 2.*h24_schw_1010*u2*u4\n",
    "    huu_0110 = 2.*h24_schw_0110*u2*u4\n",
    "    huu_1000 = h44_schw_1000*u4*u4\n",
    "    huu_2000 = h44_schw_2000*u4*u4\n",
    "    huu_0100 = h44_schw_0100*u4*u4\n",
    "    huu_1100 = h44_schw_1100*u4*u4\n",
    "    huu_0200 = h44_schw_0200*u4*u4\n",
    "\n",
    "    test0 = [0.5*coeffs(0, 0, 0, 2, 0), huu_0020]\n",
    "    test1 = [0.5*coeffs(0, 0, 0, 1, 0), huu_0010]\n",
    "    test2 = [0.5*coeffs(0, 1, 0, 1, 0), huu_1010]\n",
    "    test3 = [0.5*coeffs(0, 0, 1, 1, 0), huu_0110]\n",
    "    test4 = [0.5*coeffs(0, 1, 0, 0, 0), huu_1000]\n",
    "    test5 = [0.5*coeffs(0, 2, 0, 0, 0), huu_2000]\n",
    "    test6 = [0.5*coeffs(0, 0, 1, 0, 0), huu_0100]\n",
    "    test7 = [0.5*coeffs(0, 1, 1, 0, 0), huu_1100]\n",
    "    test8 = [0.5*coeffs(0, 0, 2, 0, 0), huu_0200]\n",
    "\n",
    "    tests = [test0, test1, test2, test3, test4, test5, test6, test7, test8]\n",
    "    data_return = []\n",
    "    for test in tests:\n",
    "        data_return.append(1. - test[0]/test[1])\n",
    "\n",
    "    return data_return\n",
    "\n",
    "# huu_coeff_check(geoCirc, huucoeffIRG)"
   ]
  },
  {
   "cell_type": "code",
   "execution_count": 10,
   "metadata": {},
   "outputs": [],
   "source": [
    "from scipy.special import factorial as fac\n",
    "from pybhpt.redshift import w3j\n",
    "import numpy as np\n",
    "\n",
    "def muCoupling(s, l):\n",
    "    \"\"\"\n",
    "    Eigenvalue for the spin-weighted spherical harmonic lowering operator\n",
    "    Setting s -> -s gives the negative of the eigenvalue for the raising operator\n",
    "    \"\"\"\n",
    "    if l + s < 0 or l - s + 1. < 0:\n",
    "        return 0\n",
    "    return np.sqrt((l - s + 1.)*(l + s))\n",
    "\n",
    "def Asjlm(s, j, l, m):\n",
    "    if s >= 0:\n",
    "        return (-1.)**(m + s)*np.sqrt(4**s*fac(s)**2*(2*l + 1)*(2*j + 1)/fac(2*s))*w3j(s, l, j, 0, m, -m)*w3j(s, l, j, s, -s, 0)\n",
    "    else:\n",
    "        return (-1.)**(m)*np.sqrt(4**(-s)*fac(-s)**2*(2*l + 1)*(2*j + 1)/fac(-2*s))*w3j(-s, l, j, 0, m, -m)*w3j(-s, l, j, s, -s, 0)\n",
    "\n",
    "def spin_operator_normalization(s, ns, l):\n",
    "    s_sgn = np.sign(s)\n",
    "    nmax1 = np.abs(s) + 1\n",
    "    Jterm = 1.\n",
    "    for ni in range(1, ns + 1):\n",
    "        Jterm *= -s_sgn*muCoupling((nmax1-ni), l)\n",
    "    return Jterm"
   ]
  },
  {
   "cell_type": "code",
   "execution_count": 11,
   "metadata": {},
   "outputs": [],
   "source": [
    "# from pybhpt.redshift import Yslm\n",
    "# from scipy.special import sph_harm\n",
    "# def Yslm_check(s, l, m, th):\n",
    "#     ths = np.ascontiguousarray(th)\n",
    "#     ylm = np.zeros(ths.shape[0])\n",
    "#     lmin = np.max([np.abs(m), l - np.abs(s)])\n",
    "#     lmax = l + np.abs(s)\n",
    "#     for j in range(lmin, lmax + 1):\n",
    "#         ylm += Asjlm(s, j, l, m)*Yslm(0, j, m, ths)\n",
    "#     return Yslm(s, l, m, ths), ylm/np.sin(ths)**np.abs(s)\n",
    "\n",
    "# Yslm_check(1, 2, 2, 0.1)"
   ]
  },
  {
   "cell_type": "code",
   "execution_count": 67,
   "metadata": {},
   "outputs": [],
   "source": [
    "from pybhpt.teuk import TeukolskyMode\n",
    "from pybhpt.hertz import HertzMode\n",
    "from pybhpt.redshift import Yslm\n",
    "from scipy.special import sph_harm\n",
    "import numpy as np\n",
    "\n",
    "def full_libration(xp):\n",
    "    return np.concatenate((xp, np.flip(xp[1:-1])))\n",
    "\n",
    "def construct_hertz_radial_components(hertz, samples = 2**6):\n",
    "    samples_half = int(samples/2 + 1)\n",
    "    hertzR0In = np.array([hertz.radialsolution('In', i) for i in range(samples_half)])\n",
    "    hertzR0Up = np.array([hertz.radialsolution('Up', i) for i in range(samples_half)])\n",
    "    hertzR1In = np.array([hertz.radialderivative('In', i) for i in range(samples_half)])\n",
    "    hertzR1Up = np.array([hertz.radialderivative('Up', i) for i in range(samples_half)])\n",
    "    hertzR2In = np.array([hertz.radialderivative2('In', i) for i in range(samples_half)])\n",
    "    hertzR2Up = np.array([hertz.radialderivative2('Up', i) for i in range(samples_half)])\n",
    "    hertzR = np.array(\n",
    "        [[np.concatenate((hertzR0In, np.flip(hertzR0In)[1:-1])), np.concatenate((hertzR0Up, np.flip(hertzR0Up)[1:-1]))], \n",
    "        [np.concatenate((hertzR1In, np.flip(hertzR1In)[1:-1])), np.concatenate((hertzR1Up, np.flip(hertzR1Up)[1:-1]))], \n",
    "        [np.concatenate((hertzR2In, np.flip(hertzR2In)[1:-1])), np.concatenate((hertzR2Up, np.flip(hertzR2Up)[1:-1]))]])\n",
    "    return hertzR\n",
    "\n",
    "def construct_hertz_radial_components_circ(hertz):\n",
    "    i = 0\n",
    "    hertzR0In = hertz.radialsolution('In', i)\n",
    "    hertzR0Up = hertz.radialsolution('Up', i)\n",
    "    hertzR1In = hertz.radialderivative('In', i)\n",
    "    hertzR1Up = hertz.radialderivative('Up', i)\n",
    "    hertzR2In = hertz.radialderivative2('In', i)\n",
    "    hertzR2Up = hertz.radialderivative2('Up', i)\n",
    "    hertzR = np.array(\n",
    "        [[hertzR0In, hertzR0Up],\n",
    "        [hertzR1In, hertzR1Up],\n",
    "        [hertzR2In, hertzR2Up]]\n",
    "    )\n",
    "    return hertzR\n",
    "\n",
    "def construct_hertz_polar_spin_weighting(hertz, samples = 2**6):\n",
    "    samples_half = int(samples/2 + 1)\n",
    "    th = np.array([hertz.polarpoint(i) for i in range(samples_half)])\n",
    "    thp = full_libration(th)\n",
    "    sth = np.sin(thp)\n",
    "    spinWeightingPolar = np.array(\n",
    "        [pow(sth, -2),\n",
    "        pow(sth, -1),\n",
    "        pow(sth, 0)]\n",
    "    )\n",
    "    return spinWeightingPolar\n",
    "\n",
    "def redshift_mode_inc(coeffs, hertz, l, samples = 2**6):\n",
    "    m = hertz.azimuthalmode\n",
    "    omega = hertz.frequency\n",
    "    s_sgn = np.sign(hertz.spinweight)\n",
    "    huu = np.zeros((samples, 2), dtype=np.complex128)\n",
    "    hertzR = construct_hertz_radial_components_circ(hertz)\n",
    "    spinWeightingPolar = construct_hertz_polar_spin_weighting(hertz, samples=samples)\n",
    "    for ns in range(0, 3):\n",
    "        scalar_coupling = 0.\n",
    "        llmin = np.max([np.abs(m), 2, l - 3 + ns])\n",
    "        llmax = np.max([llmin, l + 3 - ns])\n",
    "        for ll in range(llmin, llmax + 1):\n",
    "            Jterm = spin_operator_normalization(s_sgn*2, ns, ll)\n",
    "            scalar_coupling += Jterm*hertz.couplingcoefficient(ll)*Asjlm(s_sgn*(2-ns), l, ll, m)\n",
    "        for nt in range(0, 3):\n",
    "            for nph in range(0, 3):\n",
    "                pref = (1.j*m)**nph*(-1.j*omega)**nt\n",
    "                for nr in range(0, 3):\n",
    "                    if nt + nr + ns + nph <= 2:\n",
    "                        hNabcd0 = np.array([coeffs(0, nt, nr, ns, nph, 0, i) for i in range(samples)])\n",
    "                        hNabcd0 *= spinWeightingPolar[ns]\n",
    "                        hNabcd = np.array([hNabcd0, hNabcd0]).T\n",
    "                        huuTerm = -pref*hNabcd*scalar_coupling*hertzR[nr]\n",
    "                        # if np.sum(huuTerm) == 0 and np.sum(hNabcd0) != 0:\n",
    "                        #     print(nt, nr, ns, nph)\n",
    "                        #     print(pref, spinWeightingPolar[ns], scalar_coupling, hertzR[nr])\n",
    "                        huu += huuTerm\n",
    "    return huu\n",
    "\n",
    "def redshift_mode_ecc(coeffs, hertz, l, samples = 2**6):\n",
    "    m = hertz.azimuthalmode\n",
    "    omega = hertz.frequency\n",
    "    s_sgn = np.sign(hertz.spinweight)\n",
    "    ylm = np.real(sph_harm(m, l, 0., 0.5*np.pi))\n",
    "    huu = np.zeros((2, samples), dtype=np.complex128)\n",
    "    if np.abs(ylm) == 0.:\n",
    "        return huu\n",
    "    hertzR = construct_hertz_radial_components(hertz, samples)\n",
    "    for ns in range(0, 3):\n",
    "        scalar_coupling = 0.\n",
    "        llmin = np.max([np.abs(m), 2, l - 3 + ns])\n",
    "        llmax = np.max([llmin, l + 3 - ns])\n",
    "        for ll in range(llmin, llmax + 1):\n",
    "            Jterm = spin_operator_normalization(s_sgn*2, ns, ll)\n",
    "            scalar_coupling += Jterm*hertz.couplingcoefficient(ll)*Asjlm(s_sgn*(2-ns), l, ll, m)\n",
    "        for nt in range(0, 3):\n",
    "            for nph in range(0, 3):\n",
    "                pref = (1.j*m)**nph*(-1.j*omega)**nt\n",
    "                for nr in range(0, 3):\n",
    "                    if nt + nr + ns + nph <= 2:\n",
    "                        hNabcd0 = [coeffs(0, nt, nr, ns, nph, i, 0) for i in range(samples)]\n",
    "                        hNabcd = np.array([hNabcd0, hNabcd0])\n",
    "                        huuTerm = -pref*hNabcd*scalar_coupling*hertzR[nr]*ylm\n",
    "                        huu += huuTerm\n",
    "    return huu\n",
    "\n",
    "def redshift_mode_calc(coeffs, hertz, l):\n",
    "    m = hertz.azimuthalmode\n",
    "    omega = hertz.frequency\n",
    "    s_sgn = 1\n",
    "    if np.sign(hertz.spinweight) < 0:\n",
    "        s_sgn = -1\n",
    "    ylm = np.real(sph_harm(m, l, 0., 0.5*np.pi))\n",
    "    huu = np.array([0., 0.], dtype=np.complex128)\n",
    "    if np.abs(ylm) == 0.:\n",
    "        return huu\n",
    "    hertzRIn = [hertz.radialsolution('In', 0), hertz.radialderivative('In', 0), hertz.radialderivative2('In', 0)]\n",
    "    hertzRUp = [hertz.radialsolution('Up', 0), hertz.radialderivative('Up', 0), hertz.radialderivative2('Up', 0)]\n",
    "    for ns in range(0, 3):\n",
    "        scalar_coupling = 0.\n",
    "        llmin = np.max([np.abs(m), 2, l - 3 + ns])\n",
    "        llmax = l + 3 - ns\n",
    "        for ll in range(llmin, llmax + 1):\n",
    "            Jterm = spin_operator_normalization(s_sgn*2, ns, ll)\n",
    "            scalar_coupling += Jterm*hertz.couplingcoefficient(ll)*Asjlm(s_sgn*(2-ns), l, ll, m)\n",
    "        # print(scalar_coupling, ns, l, hertz.spheroidalmode)\n",
    "        for nt in range(0, 3):\n",
    "            for nph in range(0, 3):\n",
    "                pref = (1.j*m)**nph*(-1.j*omega)**nt\n",
    "                for nr in range(0, 3):\n",
    "                    if nt + nr + ns + nph <= 2:\n",
    "                        hNabcd = coeffs(0, nt, nr, ns, nph)\n",
    "                        if(abs(hNabcd) > 0.):\n",
    "                            huuTerm = -pref*hNabcd*scalar_coupling*np.array([hertzRIn[nr], hertzRUp[nr]])*ylm\n",
    "                            # if np.abs(huuTerm[0]) + np.abs(huuTerm[1]) > 0:\n",
    "                            #     print(nt, nr, ns, nph, huuTerm)\n",
    "                            huu += huuTerm\n",
    "    return huu\n",
    "\n",
    "from tqdm import tqdm\n",
    "\n",
    "def redshift_calc(gauge, lmax, geo):\n",
    "    coeffs = RedshiftCoefficients(gauge, geo)\n",
    "    if geo.eccentricity == 0:\n",
    "        huuYlm = np.zeros((lmax + 1, lmax + 1, 2), dtype=np.complex128)\n",
    "        redshift_func = redshift_mode_calc\n",
    "    else:\n",
    "        huuYlm = np.zeros((lmax + 1, lmax + 1, 2), dtype=np.complex128)\n",
    "        redshift_func = redshift_mode_calc\n",
    "    s = -2\n",
    "    if gauge == \"ORG\":\n",
    "        s = 2\n",
    "    for m in tqdm(range(0, lmax + 1)):\n",
    "        jmin = np.max([2, abs(m)])\n",
    "        jmax = lmax + 4 + int(20*geo.blackholespin)\n",
    "        for j in range(jmin, jmax + 1):\n",
    "            teuk = TeukolskyMode(s, j, m, 0, 0, geo)\n",
    "            teuk.solve(geo)\n",
    "            hertz = HertzMode(teuk, gauge)\n",
    "            hertz.solve()\n",
    "            # print(j)\n",
    "            for l in range(abs(m), lmax + 1):\n",
    "                huuMode = redshift_mode_calc(coeffs, hertz, l)\n",
    "                huuYlm[l, m] += huuMode\n",
    "\n",
    "    \n",
    "    huuYl = np.zeros((lmax + 1, 2))\n",
    "    for l in range(0, lmax + 1):\n",
    "        huuYl[l] += 2.*np.real(huuYlm[l, 0])\n",
    "        for m in range(1, l + 1):\n",
    "            huuYl[l] +=  4.*np.real(huuYlm[l, m])\n",
    "\n",
    "    return huuYl, huuYlm\n",
    "\n",
    "def redshift_calc_ecc(gauge, lmax, geo, nrange = [-10, 10]):\n",
    "    coeffs = RedshiftCoefficients(gauge, geo)\n",
    "    samples = 2*(geo.radialpoints.shape[0] - 1)\n",
    "    huuYlm = np.zeros((lmax + 1, lmax + 1, 2, samples), dtype=np.complex128)\n",
    "    s = -2\n",
    "    if gauge == \"ORG\":\n",
    "        s = 2\n",
    "    for m in tqdm(range(0, lmax + 1)):\n",
    "        jmin = np.max([abs(s), abs(m)])\n",
    "        jmax = lmax + 4 + int(20)\n",
    "        for j in range(jmin, jmax + 1):\n",
    "            nmin = nrange[0]\n",
    "            nmax = nrange[1]\n",
    "            for n in range(nmin, nmax + 1):\n",
    "                teuk = TeukolskyMode(s, j, m, 0, n, geo)\n",
    "                teuk.solve(geo)\n",
    "                hertz = HertzMode(teuk, gauge)\n",
    "                hertz.solve()\n",
    "                phaseUp = m*geo.azimuthalradial - teuk.frequency*geo.timeradial\n",
    "                phaseDown = np.flip(-phaseUp)[1:-1]\n",
    "                phase = np.concatenate((phaseUp, phaseDown)) - 2.*np.pi*n*np.arange(samples)/samples\n",
    "                for l in range(abs(m), lmax + 1):\n",
    "                    huuMode = redshift_mode_ecc(coeffs, hertz, l, samples=samples)\n",
    "                    # if l == j and l < 5:\n",
    "                    #     print(l, m, n, np.mean(huuMode, axis = 1))\n",
    "                    if np.isnan(np.sum(huuMode)):\n",
    "                        print(j, l, m, n)\n",
    "                    else:\n",
    "                        huuYlm[l, m] += huuMode*np.exp(1.j*np.array([phase, phase]))\n",
    "    \n",
    "    huuYl = np.zeros((lmax + 1, 2, samples))\n",
    "    for l in range(0, lmax + 1):\n",
    "        huuYl[l] += 2.*np.real(huuYlm[l, 0])\n",
    "        for m in range(1, l + 1):\n",
    "            huuYl[l] += 4.*np.real(huuYlm[l, m])\n",
    "\n",
    "    return huuYl, huuYlm\n",
    "\n",
    "def choose_spin_from_gauge(gauge):\n",
    "    if gauge == \"ORG\" or gauge == \"SAAB4\" or gauge == \"ASAAB4\":\n",
    "        s = 2\n",
    "    else:\n",
    "        s = -2\n",
    "    return s\n",
    "\n",
    "def redshift_calc_inc(gauge, lmax, geo, krange = [-10, 10]):\n",
    "    if isinstance(gauge, str):\n",
    "        if gauge == \"SAAB\":\n",
    "            return redshift_calc_inc([\"SAAB0\", \"SAAB4\"], lmax, geo, krange=krange)\n",
    "        elif gauge == \"ASAAB\":\n",
    "            return redshift_calc_inc([\"ASAAB0\", \"ASAAB4\"], lmax, geo, krange=krange)\n",
    "        gauges = [gauge]\n",
    "    else:\n",
    "        gauges = gauge\n",
    "    coeffs = []\n",
    "    for gauge in gauges:\n",
    "        coeffs.append(RedshiftCoefficients(gauge, geo))\n",
    "    samples = 2*(geo.polarpoints.shape[0] - 1)\n",
    "    huuYlm = np.zeros((lmax + 1, lmax + 1, samples, 2), dtype=np.complex128)\n",
    "    Ylms = np.zeros((lmax + 1, lmax + 1, samples, 2))\n",
    "    th = geo.polarpoints\n",
    "    thp = full_libration(th)\n",
    "    for m in range(-lmax, lmax + 1):\n",
    "        for l in range(m, lmax + 1):\n",
    "            ylm0 = np.array([np.real(sph_harm(m, l, 0., th)) for th in thp])\n",
    "            ylm = np.array([ylm0, ylm0]).T\n",
    "            Ylms[l, m] = ylm\n",
    "    s = choose_spin_from_gauge(gauges[0])\n",
    "    for m in tqdm(range(0, lmax + 1)):\n",
    "        jmin = np.max([abs(s), abs(m)])\n",
    "        jmax = lmax + 4 + int(20*geo.blackholespin)\n",
    "        for j in range(jmin, jmax + 1):\n",
    "            kmin = krange[0]\n",
    "            kmax = krange[1]\n",
    "            for k in range(kmin, kmax + 1):\n",
    "                teuk = TeukolskyMode(s, j, m, k, 0, geo)\n",
    "                teuk.solve(geo)\n",
    "                psis = []\n",
    "                for i, gauge in enumerate(gauges):\n",
    "                    psis.append(HertzMode(teuk, gauge))\n",
    "                    psis[i].solve()\n",
    "                phaseUp = m*geo.azimuthalpolar - teuk.frequency*geo.timepolar\n",
    "                phaseDown = np.flip(-phaseUp)[1:-1]\n",
    "                phase = np.concatenate((phaseUp, phaseDown)) - 2.*np.pi*k*np.arange(samples)/samples\n",
    "                phaseArray = np.array([phase, phase]).T\n",
    "                for l in range(abs(m), lmax + 1):\n",
    "                    for coeff, psi in zip(coeffs, psis):\n",
    "                        huuMode = redshift_mode_inc(coeff, psi, l, samples=samples)\n",
    "                        if np.isnan(np.sum(huuMode)):\n",
    "                            print(\"Error \", j, l, m, k)\n",
    "                        else:\n",
    "                            huuTemp = huuMode*np.exp(1.j*phaseArray)*Ylms[l, m]\n",
    "                            # if l == j:\n",
    "                            #     print(l, m, k)\n",
    "                            #     print(orbit_average_polar(huuTemp, geo, axis = 0))\n",
    "                            huuYlm[l, m] += huuTemp\n",
    "    \n",
    "    huuYl = np.zeros((lmax + 1, samples, 2))\n",
    "    for l in range(0, lmax + 1):\n",
    "        huuYl[l] += 2.*np.real(huuYlm[l, 0])\n",
    "        for m in range(1, l + 1):\n",
    "            huuYl[l] += 2.*np.real(huuYlm[l, m])\n",
    "            huuYl[l] += 2.*np.real(np.roll(huuYlm[l, m], int(samples/2)))\n",
    "\n",
    "    return huuYl, huuYlm\n"
   ]
  },
  {
   "cell_type": "code",
   "execution_count": 13,
   "metadata": {},
   "outputs": [],
   "source": [
    "def huu_mode_check(gauge, j, m, k, n, geo):\n",
    "    coeffs = RedshiftCoefficients(gauge, geo)\n",
    "    samples = 2*(geo.polarpoints.shape[0] - 1)\n",
    "    lmax = j + 10\n",
    "    huuYlm = np.zeros((lmax + 1, 2*lmax + 1, samples, 2), dtype=np.complex128)\n",
    "    Ylms = np.zeros((lmax + 1, 2*lmax + 1, samples, 2))\n",
    "    th = geo.polarpoints\n",
    "    thp = full_libration(th)\n",
    "    for emmm in range(-lmax, lmax + 1):\n",
    "        for l in range(m, lmax + 1):\n",
    "            ylm0 = np.array([np.real(sph_harm(emmm, l, 0., th)) for th in thp])\n",
    "            ylm = np.array([ylm0, ylm0]).T\n",
    "            Ylms[l, emmm] = ylm\n",
    "    s = -2\n",
    "    if gauge == \"ORG\":\n",
    "        s = 2\n",
    "    teuk = TeukolskyMode(s, j, m, k, 0, geo)\n",
    "    teuk.solve(geo)\n",
    "    hertz = HertzMode(teuk, gauge)\n",
    "    hertz.solve()\n",
    "    phaseUp = m*geo.azimuthalpolar - teuk.frequency*geo.timepolar\n",
    "    phaseDown = np.flip(-phaseUp)[1:-1]\n",
    "    phase = np.concatenate((phaseUp, phaseDown)) - 2.*np.pi*k*np.arange(samples)/samples\n",
    "    phaseArray = np.array([phase, phase]).T\n",
    "    huuTemp = []\n",
    "    for l in range(abs(m), lmax + 1):\n",
    "        huuMode = redshift_mode_inc(coeffs, hertz, l, samples=samples)\n",
    "        if np.isnan(np.sum(huuMode)):\n",
    "            print(j,l,m,k)\n",
    "        else:\n",
    "            huuTemp.append(huuMode*np.exp(1.j*phaseArray)*Ylms[l, m])\n",
    "    return huuTemp"
   ]
  },
  {
   "cell_type": "code",
   "execution_count": 14,
   "metadata": {},
   "outputs": [],
   "source": [
    "# geoTest = KerrGeodesic(0.5, 10., 0., 0.9, 2**6)\n",
    "# huuP=huu_mode_check(\"IRG\", 4, 1, 0, 0, geoTest)\n",
    "# huuM=huu_mode_check(\"IRG\", 4, -1, 0, 0, geoTest)"
   ]
  },
  {
   "cell_type": "code",
   "execution_count": 205,
   "metadata": {},
   "outputs": [],
   "source": [
    "from scipy.special import ellipk\n",
    "from pybhpt.geo import kerrgeo_Vt_radial, kerrgeo_Vt_polar, kerrgeo_Vr, kerrgeo_Vphi_radial, kerrgeo_Vphi_polar\n",
    "\n",
    "def huu_reg_ecc(geo):\n",
    "    L = geo.orbitalangularmomentum\n",
    "    r0 = np.concatenate((geo.radialpoints, np.flip(geo.radialpoints)[1:-1]))\n",
    "    q = geo.blackholespin\n",
    "    kappa = L**2 + q**2 + 2*q**2/r0\n",
    "    k = kappa/(r0**2 + kappa)\n",
    "    K = ellipk(k)\n",
    "    return 4.*K/(np.pi*np.sqrt(kappa + r0**2))\n",
    "\n",
    "def huu_reg_inc(geo):\n",
    "    En = geo.orbitalenergy\n",
    "    Lz = geo.orbitalangularmomentum\n",
    "    Qc = geo.carterconstant\n",
    "    r = geo.radialpoints[0]\n",
    "    th0 = np.concatenate((geo.polarpoints, np.flip(geo.polarpoints)[1:-1]))\n",
    "    q = geo.blackholespin\n",
    "    return huu_reg_gen(q, En, Lz, Qc, r, th0)\n",
    "\n",
    "def huu_reg_gen(q, En, Lz, Qc, r, th):\n",
    "    sig = r**2 + q**2*np.cos(th)**2\n",
    "    eta = pow(sig,-1)*pow(2.*(2.*r + sig)*pow(q,2)*(sig*(-1.*Qc + pow(Lz,2)) + (2.*r + sig*pow(En,2))*(-1.*sig + pow(r,2))) + pow(q,4)*pow(2.*r + sig,2) + pow(sig*(Qc + pow(Lz,2)) - (2.*r + sig*pow(En,2))*(-1.*sig + pow(r,2)),2),0.5)\n",
    "    zeta = Qc - 1.*r*(2. + r*(-2. + pow(En,2))) + sig*pow(En,2) + pow(Lz,2) + pow(q,2) + 2.*r*(pow(q,2) + pow(r,2))*pow(sig,-1)\n",
    "    k = 2*eta/(eta + zeta)\n",
    "    K = ellipk(k)\n",
    "    return 4.*K/(np.pi*np.sqrt(eta/k))\n",
    "\n",
    "def completion(geo):\n",
    "    dM = geo.orbitalenergy\n",
    "    dJ = geo.orbitalangularmomentum\n",
    "    r = geo.radialpoints[0]\n",
    "    q = geo.blackholespin\n",
    "    htt = 2*dM/r\n",
    "    htphi = -2*dJ/r\n",
    "    hphiphi = 2.*q*((r + 2.)*dJ - (r + 1)*q*dM)/r\n",
    "    Omega = geo.frequencies[-1]\n",
    "    ut = ut_circ(geo)\n",
    "    return ut**2*(htt + 2.*Omega*htphi + Omega**2*hphiphi)\n",
    "\n",
    "def ut_ecc(q, En, Lz, r):\n",
    "    Sigma = r**2\n",
    "    theta = 0.5*np.pi\n",
    "    Qc = 0.\n",
    "    return (np.array([kerrgeo_Vt_radial(q, En, Lz, Qc, ri) for ri in r]) + kerrgeo_Vt_polar(q, En, Lz, Qc, theta))/Sigma\n",
    "\n",
    "def uphi_ecc(q, En, Lz, r):\n",
    "    Sigma = r**2\n",
    "    theta = 0.5*np.pi\n",
    "    Qc = 0.\n",
    "    return (np.array([kerrgeo_Vphi_radial(q, En, Lz, Qc, ri) for ri in r]) + kerrgeo_Vphi_polar(q, En, Lz, Qc, theta))/Sigma\n",
    "\n",
    "def ur_ecc(q, En, Lz, r):\n",
    "    r0 = np.unique(r)\n",
    "    Sigma = r**2\n",
    "    Qc = 0.\n",
    "    urUp = np.sqrt(np.abs(np.array([kerrgeo_Vr(q, En, Lz, Qc, ri) for ri in r0])))\n",
    "    urUp[0] = 0.\n",
    "    urUp[-1] = 0.\n",
    "    urDown = -np.flip(urUp)[1:-1]\n",
    "    ur = np.concatenate((urUp, urDown))/Sigma\n",
    "    return ur\n",
    "\n",
    "def ut_ecc_geo(geo):\n",
    "    dM = geo.orbitalenergy\n",
    "    dJ = geo.orbitalangularmomentum\n",
    "    r = np.concatenate((geo.radialpoints, np.flip(geo.radialpoints)[1:-1]))\n",
    "    q = geo.blackholespin\n",
    "    return ut_ecc(q, dM, dJ, r)\n",
    "\n",
    "def ur_ecc_geo(geo):\n",
    "    dM = geo.orbitalenergy\n",
    "    dJ = geo.orbitalangularmomentum\n",
    "    r = np.concatenate((geo.radialpoints, np.flip(geo.radialpoints)[1:-1]))\n",
    "    q = geo.blackholespin\n",
    "    return ur_ecc(q, dM, dJ, r)\n",
    "\n",
    "def uphi_ecc_geo(geo):\n",
    "    dM = geo.orbitalenergy\n",
    "    dJ = geo.orbitalangularmomentum\n",
    "    r = np.concatenate((geo.radialpoints, np.flip(geo.radialpoints)[1:-1]))\n",
    "    q = geo.blackholespin\n",
    "    return uphi_ecc(q, dM, dJ, r)\n",
    "\n",
    "def completion_ecc(geo):\n",
    "    dM = geo.orbitalenergy\n",
    "    dJ = geo.orbitalangularmomentum\n",
    "    r = np.concatenate((geo.radialpoints, np.flip(geo.radialpoints)[1:-1]))\n",
    "    q = geo.blackholespin\n",
    "    htt = 2*dM/r\n",
    "    hrr = 2.*r**2*((r + q**2)*dM - q*dJ)/(r**2 - 2.*r + q**2)**2\n",
    "    htphi = -2*dJ/r\n",
    "    hphiphi = 2.*q*((r + 2.)*dJ - (r + 1)*q*dM)/r\n",
    "    ut = ut_ecc(q, dM, dJ, r)\n",
    "    uphi = uphi_ecc(q, dM, dJ, r)\n",
    "    ur = ur_ecc(q, dM, dJ, r)\n",
    "    # return np.mean(r**2*(htt*ut*ut + 2*htphi*ut*uphi + hrr*ur*ur + hphiphi*uphi*uphi))/np.mean(r**2)\n",
    "    return (htt*ut*ut + 2*htphi*ut*uphi + hrr*ur*ur + hphiphi*uphi*uphi)\n",
    "\n",
    "def orbit_average_ecc(func, geo, axis = 0):\n",
    "    r = np.concatenate((geo.radialpoints, np.flip(geo.radialpoints)[1:-1]))\n",
    "    return np.mean(func*r**2, axis = axis)/np.mean(r**2)\n",
    "\n",
    "def orbit_average_inc(func, geo, axis = 0):\n",
    "    th = np.concatenate((geo.polarpoints, np.flip(geo.polarpoints)[1:-1])).T\n",
    "    r = geo.radialpoints[0]\n",
    "    q = geo.blackholespin\n",
    "    sig = r**2 + q**2*np.cos(th)**2\n",
    "    if len(func.shape) <= 1:\n",
    "        sigA = np.array(sig)\n",
    "    else:\n",
    "        sigA = np.array([sig, sig]).T\n",
    "    return np.mean(func*sigA, axis = axis)/np.mean(sig)"
   ]
  },
  {
   "cell_type": "code",
   "execution_count": 16,
   "metadata": {},
   "outputs": [],
   "source": [
    "# def Tr_ecc_geo(geo):\n",
    "#     dM = geo.orbitalenergy\n",
    "#     dJ = geo.orbitalangularmomentum\n",
    "#     r = np.concatenate((geo.radialpoints, np.flip(geo.radialpoints)[1:-1]))\n",
    "#     q = geo.blackholespin\n",
    "#     return 2.*np.pi/geoEcc.minofrequencies[1]*np.mean(ut_ecc(q, dM, dJ, r)*r**2)\n",
    "    \n",
    "# def TTr_ecc_geo(geo):\n",
    "#     dM = geo.orbitalenergy\n",
    "#     dJ = geo.orbitalangularmomentum\n",
    "#     r = np.concatenate((geo.radialpoints, np.flip(geo.radialpoints)[1:-1]))\n",
    "#     q = geo.blackholespin\n",
    "#     return 2.*np.pi/geoEcc.minofrequencies[1]*np.mean(r**2)\n",
    "\n",
    "def Tr_ecc_geo_ratio(geo):\n",
    "    dM = geo.orbitalenergy\n",
    "    dJ = geo.orbitalangularmomentum\n",
    "    r = np.concatenate((geo.radialpoints, np.flip(geo.radialpoints)[1:-1]))\n",
    "    q = geo.blackholespin\n",
    "    return np.mean(ut_ecc(q, dM, dJ, r)*r**2)/np.mean(r**2)"
   ]
  },
  {
   "cell_type": "code",
   "execution_count": 19,
   "metadata": {},
   "outputs": [
    {
     "name": "stdout",
     "output_type": "stream",
     "text": [
      "(0.010206810518603084-1.795800827176601e-18j) (0.011616106404651126+2.995205571025018e-18j)\n",
      "(0.01020681051860308-3.472349255673505e-18j) (0.01161610640465111+3.686406856646175e-18j)\n"
     ]
    }
   ],
   "source": [
    "geoTest = KerrGeodesic(0.5, 10., 0., 0.9, 2**6)\n",
    "def teuk_mode_test(s, j, m, k, n, geo, gauge):\n",
    "    teuk = TeukolskyMode(s, j, m, k, n, geo)\n",
    "    teuk.solve(geo)\n",
    "    hertz = HertzMode(teuk, gauge)\n",
    "    hertz.solve()\n",
    "    results = [teuk, hertz]\n",
    "    # results=[teuk]\n",
    "    return results\n",
    "\n",
    "food=teuk_mode_test(2, 4, 0, 0, 0, geoTest, \"SAAB0\")\n",
    "print(food[1].radialsolution('Up', 0), food[1].radialsolution('In', 0))\n",
    "food=teuk_mode_test(-2, 4, 0, 0, 0, geoTest, \"SAAB0\")\n",
    "print(food[1].radialsolution('Up', 0), food[1].radialsolution('In', 0))"
   ]
  },
  {
   "attachments": {},
   "cell_type": "markdown",
   "metadata": {},
   "source": [
    "## Circ Test"
   ]
  },
  {
   "cell_type": "code",
   "execution_count": 123,
   "metadata": {},
   "outputs": [
    {
     "name": "stderr",
     "output_type": "stream",
     "text": [
      "100%|██████████| 21/21 [00:04<00:00,  4.83it/s]\n"
     ]
    }
   ],
   "source": [
    "geoCirc = KerrGeodesic(0., 10., 0., 1.0, 2**2)\n",
    "lmax = 20\n",
    "huuCirc = redshift_calc('IRG', 20, geoCirc)"
   ]
  },
  {
   "cell_type": "code",
   "execution_count": 51,
   "metadata": {},
   "outputs": [
    {
     "data": {
      "image/png": "[encoded data removed]",
      "text/plain": [
       "<Figure size 640x480 with 1 Axes>"
      ]
     },
     "metadata": {},
     "output_type": "display_data"
    }
   ],
   "source": [
    "lmodes = np.arange(1., lmax+1)\n",
    "huuregB = orbit_average(huu_reg(geoCirc), geoCirc)\n",
    "huul = huuCirc[0][:lmax+1]\n",
    "data = huul\n",
    "datareg = huul - huuregB\n",
    "ymin = np.min(np.abs(datareg[1:]))/5\n",
    "ymax = 5*np.max(np.abs(datareg[1:]))\n",
    "plt.loglog(lmodes, np.abs(data[1:, 1]), label = '$h_{uu}^l$')\n",
    "plt.loglog(lmodes, np.abs(datareg[1:, 1]), label = '$h_{uu}^l - \\Phi^S_{[0]}$')\n",
    "for i in range(20):\n",
    "    plt.loglog(lmodes, ymax*10.**(2-0.5*i)*lmodes**(-2), '--', color='gray')\n",
    "plt.ylim(ymin, ymax)\n",
    "plt.xlim(1, lmax)\n",
    "plt.xlabel(\"$l$\")\n",
    "plt.ylabel(\"$|h_{uu}^{R,l}|$\")\n",
    "plt.legend()\n",
    "plt.show()"
   ]
  },
  {
   "cell_type": "code",
   "execution_count": 52,
   "metadata": {},
   "outputs": [
    {
     "name": "stdout",
     "output_type": "stream",
     "text": [
      "       message: The unconstrained solution is optimal.\n",
      "       success: True\n",
      "        status: 3\n",
      "           fun: [ 1.202e-07 -2.661e-07 ...  4.502e-08  1.232e-07]\n",
      "             x: [-4.210e-01  1.934e-01  2.427e-01  1.455e-01]\n",
      "           nit: 0\n",
      "          cost: 8.927197439608559e-14\n",
      "    optimality: 4.375388940047742e-13\n",
      "   active_mask: [ 0.000e+00  0.000e+00  0.000e+00  0.000e+00]\n",
      " unbounded_sol: (array([-4.210e-01,  1.934e-01,  2.427e-01,  1.455e-01]), array([ 1.785e-13]), 4, array([ 5.719e+01,  1.291e+00,  1.166e-02,  4.291e-05]))\n"
     ]
    }
   ],
   "source": [
    "from scipy.optimize import lsq_linear\n",
    "def lbasis(lmax):\n",
    "    return [1., ((lmax + 1)), ((lmax + 1)/(2*lmax + 1)/(2*lmax + 3)), ((lmax + 1)/(2*lmax + 1)/(2*lmax + 3)/(2*lmax - 1)/(2*lmax + 5))]\n",
    "\n",
    "# def lbasis(lmax):\n",
    "#     return [1., ((lmax + 1)), ((lmax + 1)/(2*lmax + 1)/(2*lmax + 3))]\n",
    "\n",
    "# def lbasis(lmax):\n",
    "#     return [1., ((lmax + 1)/(2*lmax + 1)/(2*lmax + 3)), ((lmax + 1)/(2*lmax + 1)/(2*lmax + 3)/(2*lmax - 1)/(2*lmax + 5))]\n",
    "\n",
    "lminTest = 5\n",
    "lmaxTest = lmax\n",
    "ysum = np.array([np.sum(huul[:lmax + 1, 1]) for lmax in range(lminTest, lmaxTest + 1)])\n",
    "xsum = np.array([lbasis(lmax) for lmax in range(lminTest, lmaxTest + 1)])\n",
    "\n",
    "b = lsq_linear(xsum, ysum)\n",
    "print(b)"
   ]
  },
  {
   "cell_type": "code",
   "execution_count": 53,
   "metadata": {},
   "outputs": [
    {
     "data": {
      "text/plain": [
       "(-0.12912882278233942, -0.07459564165065968)"
      ]
     },
     "execution_count": 53,
     "metadata": {},
     "output_type": "execute_result"
    }
   ],
   "source": [
    "b.x[1] - huuregB\n",
    "hcomp =  orbit_average(completion_ecc(geoCirc), geoCirc)\n",
    "zval = 0.5*(b.x[0] + hcomp)*Tr_ecc_geo_ratio(geoCirc)\n",
    "mval=-0.1201650349\n",
    "zval, 1-zval/mval"
   ]
  },
  {
   "attachments": {},
   "cell_type": "markdown",
   "metadata": {},
   "source": [
    "## Eccentric Test"
   ]
  },
  {
   "cell_type": "code",
   "execution_count": 56,
   "metadata": {},
   "outputs": [
    {
     "name": "stderr",
     "output_type": "stream",
     "text": [
      "100%|██████████| 31/31 [26:38<00:00, 51.56s/it]\n"
     ]
    }
   ],
   "source": [
    "geoEcc = KerrGeodesic(0.5, 10., 0.1, 1.0, 2**6)\n",
    "huuData0 = redshift_calc_ecc('IRG', 30, geoEcc, nrange = [-10, 10])"
   ]
  },
  {
   "cell_type": "code",
   "execution_count": 68,
   "metadata": {},
   "outputs": [
    {
     "name": "stderr",
     "output_type": "stream",
     "text": [
      "100%|██████████| 31/31 [45:33<00:00, 88.19s/it]  \n"
     ]
    }
   ],
   "source": [
    "geoEcc2 = KerrGeodesic(0.5, 10., 0.1, 1.0, 2**7)\n",
    "huuData2 = redshift_calc_ecc('IRG', 30, geoEcc2, nrange = [-10, 10])"
   ]
  },
  {
   "cell_type": "code",
   "execution_count": 69,
   "metadata": {},
   "outputs": [
    {
     "name": "stderr",
     "output_type": "stream",
     "text": [
      "100%|██████████| 31/31 [48:07<00:00, 93.14s/it]  \n"
     ]
    }
   ],
   "source": [
    "geoEcc3 = KerrGeodesic(0.5, 10., 0.1, 1.0, 2**6)\n",
    "huuData3 = redshift_calc_ecc('IRG', 30, geoEcc3, nrange = [-14, 14])"
   ]
  },
  {
   "cell_type": "code",
   "execution_count": null,
   "metadata": {},
   "outputs": [],
   "source": [
    "geoEcc3 = KerrGeodesic(0.25, 10., 0.1, 1.0, 2**6)\n",
    "huuData3 = redshift_calc_ecc('IRG', 30, geoEcc3, nrange = [-14, 14])"
   ]
  },
  {
   "cell_type": "code",
   "execution_count": 78,
   "metadata": {},
   "outputs": [
    {
     "data": {
      "image/png": "[encoded data removed]",
      "text/plain": [
       "<Figure size 640x480 with 1 Axes>"
      ]
     },
     "metadata": {},
     "output_type": "display_data"
    }
   ],
   "source": [
    "huuDataTest = huuData3\n",
    "lmax = huuDataTest[0].shape[0] - 1\n",
    "lmodes = np.arange(1., lmax+1)\n",
    "huuregB = orbit_average(huu_reg(geoEcc), geoEcc)\n",
    "huul = orbit_average(huuDataTest[0], geoEcc, axis = 2)\n",
    "datareg = huul - huuregB\n",
    "ymin = np.min(np.abs(datareg[1:lmax + 1]))/5\n",
    "ymax = 5*np.max(np.abs(datareg[1:lmax +1]))\n",
    "plt.loglog(lmodes, np.abs(datareg[1:lmax + 1]))\n",
    "for i in range(20):\n",
    "    plt.loglog(lmodes, ymax*10.**(2-0.5*i)*lmodes**(-2), '--', color='gray')\n",
    "plt.ylim(ymin, ymax)\n",
    "plt.xlim(1, lmax)\n",
    "plt.xlabel(\"$l$\")\n",
    "plt.ylabel(\"$|h_{uu}^l - B_0|$\")\n",
    "plt.show()"
   ]
  },
  {
   "cell_type": "code",
   "execution_count": 79,
   "metadata": {},
   "outputs": [
    {
     "name": "stdout",
     "output_type": "stream",
     "text": [
      "       message: The unconstrained solution is optimal.\n",
      "       success: True\n",
      "        status: 3\n",
      "           fun: [ 2.944e-09 -2.550e-09 ...  4.646e-10  6.583e-09]\n",
      "             x: [-4.097e-01  1.921e-01  1.857e-01  8.002e-02]\n",
      "           nit: 0\n",
      "          cost: 5.71117304275099e-17\n",
      "    optimality: 1.9317880628477724e-13\n",
      "   active_mask: [ 0.000e+00  0.000e+00  0.000e+00  0.000e+00]\n",
      " unbounded_sol: (array([-4.097e-01,  1.921e-01,  1.857e-01,  8.002e-02]), array([ 1.142e-16]), 4, array([ 1.003e+02,  1.269e+00,  5.345e-03,  5.147e-06]))\n"
     ]
    }
   ],
   "source": [
    "from scipy.optimize import lsq_linear\n",
    "def lbasis(lmax):\n",
    "    return [1., ((lmax + 1)), ((lmax + 1)/(2*lmax + 1)/(2*lmax + 3)), ((lmax + 1)/(2*lmax + 1)/(2*lmax + 3)/(2*lmax - 1)/(2*lmax + 5))]\n",
    "\n",
    "# def lbasis(lmax):\n",
    "#     return [1., ((lmax + 1)), ((lmax + 1)/(2*lmax + 1)/(2*lmax + 3))]\n",
    "\n",
    "# def lbasis(lmax):\n",
    "#     return [1., ((lmax + 1)/(2*lmax + 1)/(2*lmax + 3)), ((lmax + 1)/(2*lmax + 1)/(2*lmax + 3)/(2*lmax - 1)/(2*lmax + 5))]\n",
    "\n",
    "lminTest = 10\n",
    "lmaxTest = lmax\n",
    "ysum = np.array([np.sum(huul[:lmax + 1, 1]) for lmax in range(lminTest, lmaxTest + 1)])\n",
    "xsum = np.array([lbasis(lmax) for lmax in range(lminTest, lmaxTest + 1)])\n",
    "\n",
    "b = lsq_linear(xsum, ysum)\n",
    "print(b)"
   ]
  },
  {
   "cell_type": "code",
   "execution_count": 80,
   "metadata": {},
   "outputs": [
    {
     "data": {
      "text/plain": [
       "-2.053535563817377e-09"
      ]
     },
     "execution_count": 80,
     "metadata": {},
     "output_type": "execute_result"
    }
   ],
   "source": [
    "1-b.x[1]/huuregB"
   ]
  },
  {
   "cell_type": "code",
   "execution_count": 81,
   "metadata": {},
   "outputs": [
    {
     "data": {
      "text/plain": [
       "-0.11878109293429207"
      ]
     },
     "execution_count": 81,
     "metadata": {},
     "output_type": "execute_result"
    }
   ],
   "source": [
    "hcomp =  orbit_average(completion_ecc(geoEcc), geoEcc)\n",
    "zval = 0.5*(b.x[0] + hcomp)*Tr_ecc_geo_ratio(geoEcc)\n",
    "zval"
   ]
  },
  {
   "cell_type": "code",
   "execution_count": 292,
   "metadata": {},
   "outputs": [],
   "source": [
    "# zvalComp = -0.0892184417213\n",
    "# zval - zvalComp"
   ]
  },
  {
   "attachments": {},
   "cell_type": "markdown",
   "metadata": {},
   "source": [
    "## Inclined Test"
   ]
  },
  {
   "cell_type": "code",
   "execution_count": 143,
   "metadata": {},
   "outputs": [
    {
     "name": "stderr",
     "output_type": "stream",
     "text": [
      "100%|██████████| 26/26 [17:05<00:00, 39.45s/it]\n",
      "100%|██████████| 26/26 [16:49<00:00, 38.82s/it]\n"
     ]
    }
   ],
   "source": [
    "geoInc = KerrGeodesic(0.5, 10., 0., 0.9, 2**6)\n",
    "huuDataIRG = redshift_calc_inc('IRG', 25, geoInc, krange = [-12, 12])\n",
    "huuDataORG = redshift_calc_inc('ORG', 25, geoInc, krange = [-12, 12])"
   ]
  },
  {
   "cell_type": "code",
   "execution_count": 204,
   "metadata": {},
   "outputs": [
    {
     "name": "stderr",
     "output_type": "stream",
     "text": [
      "100%|██████████| 11/11 [01:31<00:00,  8.28s/it]\n"
     ]
    }
   ],
   "source": [
    "geoInc = KerrGeodesic(0.5, 10., 0., 0.9, 2**6)\n",
    "huuDataIRG2 = redshift_calc_inc('IRG', 10, geoInc, krange = [-8, 8])"
   ]
  },
  {
   "cell_type": "code",
   "execution_count": 45,
   "metadata": {},
   "outputs": [
    {
     "name": "stderr",
     "output_type": "stream",
     "text": [
      "100%|██████████| 11/11 [02:27<00:00, 13.38s/it]\n"
     ]
    }
   ],
   "source": [
    "geoInc = KerrGeodesic(0.5, 10., 0., 0.9, 2**6)\n",
    "huuDataSAAB0 = redshift_calc_inc(['SAAB0', 'SAAB4'], 10, geoInc, krange = [-8, 8])"
   ]
  },
  {
   "cell_type": "code",
   "execution_count": 46,
   "metadata": {},
   "outputs": [
    {
     "name": "stderr",
     "output_type": "stream",
     "text": [
      "100%|██████████| 13/13 [03:24<00:00, 15.72s/it]\n"
     ]
    }
   ],
   "source": [
    "huuDataSAAB0_2 = redshift_calc_inc(['SAAB0', 'SAAB4'], 12, geoInc, krange = [-8, 8])"
   ]
  },
  {
   "cell_type": "code",
   "execution_count": 47,
   "metadata": {},
   "outputs": [
    {
     "data": {
      "text/plain": [
       "array([[0., 0.],\n",
       "       [0., 0.],\n",
       "       [0., 0.],\n",
       "       [0., 0.],\n",
       "       [0., 0.],\n",
       "       [0., 0.],\n",
       "       [0., 0.],\n",
       "       [0., 0.],\n",
       "       [0., 0.],\n",
       "       [0., 0.],\n",
       "       [0., 0.]])"
      ]
     },
     "execution_count": 47,
     "metadata": {},
     "output_type": "execute_result"
    }
   ],
   "source": [
    "orbit_average_polar(huuDataSAAB0[0], geoInc, axis = 1) - orbit_average_polar(huuDataSAAB0_2[0], geoInc, axis = 1)[:11]"
   ]
  },
  {
   "cell_type": "code",
   "execution_count": 27,
   "metadata": {},
   "outputs": [
    {
     "name": "stderr",
     "output_type": "stream",
     "text": [
      "100%|██████████| 11/11 [01:29<00:00,  8.18s/it]\n"
     ]
    }
   ],
   "source": [
    "huuDataSAAB4 = redshift_calc_inc(['SAAB4'], 10, geoInc, krange = [-12, 12])"
   ]
  },
  {
   "cell_type": "code",
   "execution_count": 30,
   "metadata": {},
   "outputs": [
    {
     "data": {
      "text/plain": [
       "array([[ 0.00221588,  0.00131567],\n",
       "       [-0.01597069, -0.01101539],\n",
       "       [ 0.11418859,  0.11011628],\n",
       "       [ 0.0525794 ,  0.05265662],\n",
       "       [ 0.0183198 ,  0.01835339],\n",
       "       [ 0.00911509,  0.00911055],\n",
       "       [ 0.01914068,  0.01910981],\n",
       "       [ 0.03512768,  0.03508981],\n",
       "       [ 0.04480275,  0.04477482],\n",
       "       [ 0.04374561,  0.04373517],\n",
       "       [ 0.03584777,  0.03585187]])"
      ]
     },
     "execution_count": 30,
     "metadata": {},
     "output_type": "execute_result"
    }
   ],
   "source": [
    "4*(orbit_average_polar(huuDataSAAB0[0], geoInc, axis = 1) + orbit_average_polar(huuDataSAAB4[0], geoInc, axis = 1))"
   ]
  },
  {
   "cell_type": "code",
   "execution_count": 28,
   "metadata": {},
   "outputs": [
    {
     "name": "stderr",
     "output_type": "stream",
     "text": [
      "100%|██████████| 11/11 [01:28<00:00,  8.07s/it]\n"
     ]
    }
   ],
   "source": [
    "huuDataIRG = redshift_calc_inc('IRG', 10, geoInc, krange = [-8, 8])"
   ]
  },
  {
   "cell_type": "code",
   "execution_count": 29,
   "metadata": {},
   "outputs": [
    {
     "data": {
      "text/plain": [
       "array([[ 0.00195735,  0.00179494],\n",
       "       [-0.01772738, -0.01787788],\n",
       "       [ 0.19892421,  0.19908246],\n",
       "       [ 0.18973078,  0.18987335],\n",
       "       [ 0.19142317,  0.19143141],\n",
       "       [ 0.19220971,  0.19221187],\n",
       "       [ 0.19266297,  0.19266377],\n",
       "       [ 0.19294551,  0.19294586],\n",
       "       [ 0.19313545,  0.19313563],\n",
       "       [ 0.19326719,  0.19326729],\n",
       "       [ 0.19336224,  0.19336229]])"
      ]
     },
     "execution_count": 29,
     "metadata": {},
     "output_type": "execute_result"
    }
   ],
   "source": [
    "orbit_average_polar(huuDataIRG[0], geoInc, axis = 1)"
   ]
  },
  {
   "cell_type": "code",
   "execution_count": 144,
   "metadata": {},
   "outputs": [
    {
     "data": {
      "text/plain": [
       "array([[ 0.00195735,  0.00179494],\n",
       "       [-0.01772738, -0.01787788],\n",
       "       [ 0.19892421,  0.19908246],\n",
       "       [ 0.18973078,  0.18987335],\n",
       "       [ 0.19142317,  0.19143141],\n",
       "       [ 0.19220971,  0.19221187],\n",
       "       [ 0.19266297,  0.19266377],\n",
       "       [ 0.19294551,  0.19294586],\n",
       "       [ 0.19313546,  0.19313564],\n",
       "       [ 0.1932673 ,  0.1932674 ],\n",
       "       [ 0.19336287,  0.19336293],\n",
       "       [ 0.19343541,  0.19343544],\n",
       "       [ 0.19349025,  0.19349028],\n",
       "       [ 0.1935336 ,  0.19353361],\n",
       "       [ 0.19356865,  0.19356866],\n",
       "       [ 0.19359642,  0.19359643],\n",
       "       [ 0.19361967,  0.19361968],\n",
       "       [ 0.19363889,  0.19363889],\n",
       "       [ 0.19365398,  0.19365398],\n",
       "       [ 0.1936652 ,  0.19366519],\n",
       "       [ 0.19358622,  0.19358621],\n",
       "       [ 0.19364918,  0.19364915],\n",
       "       [ 0.19362855,  0.1936285 ],\n",
       "       [ 0.19354646,  0.19354637],\n",
       "       [ 0.19337455,  0.1933744 ],\n",
       "       [ 0.19304903,  0.19304882]])"
      ]
     },
     "execution_count": 144,
     "metadata": {},
     "output_type": "execute_result"
    }
   ],
   "source": [
    "orbit_average_polar(huuDataIRG[0], geoInc, axis = 1)"
   ]
  },
  {
   "cell_type": "code",
   "execution_count": 32,
   "metadata": {},
   "outputs": [],
   "source": [
    "# evals = np.logspace(-4, -0.2, 100)\n",
    "# huuB = []\n",
    "# for e in evals:\n",
    "#     geoE = KerrGeodesic(0.5, 10., e, 1.0, 2**7)\n",
    "#     huuB.append(orbit_average(huu_reg(geoE), geoE))\n",
    "# plt.plot(evals, huuB)\n",
    "# plt.xscale('log')\n",
    "# plt.yscale('log')\n",
    "# plt.show()"
   ]
  },
  {
   "cell_type": "code",
   "execution_count": 33,
   "metadata": {},
   "outputs": [],
   "source": [
    "# xvals = 1-np.logspace(-4, -0.2, 100)\n",
    "# huuB = []\n",
    "# for x in xvals:\n",
    "#     geoX = KerrGeodesic(0.5, 10., 0., x, 2**6)\n",
    "#     huuB.append(orbit_average_polar(huu_reg_inc(geoX), geoX))\n",
    "# plt.plot(xvals, huuB)\n",
    "# plt.xscale('log')\n",
    "# plt.show()"
   ]
  },
  {
   "cell_type": "code",
   "execution_count": 151,
   "metadata": {},
   "outputs": [
    {
     "data": {
      "image/png": "[encoded data removed]",
      "text/plain": [
       "<Figure size 640x480 with 1 Axes>"
      ]
     },
     "metadata": {},
     "output_type": "display_data"
    }
   ],
   "source": [
    "# plt.plot(np.abs(np.mean(huuData[0][1:], axis=2)))\n",
    "# lmax = huuDataORG[0].shape[0] - 2\n",
    "lmax = 20\n",
    "lmodes = np.arange(1., lmax+1)\n",
    "huuregB = orbit_average_polar(huu_reg_inc(geoInc), geoInc)\n",
    "huul = orbit_average_polar(huuDataIRG[0][:lmax+1], geoInc, axis = 1)\n",
    "data = huul\n",
    "datareg = huul - huuregB\n",
    "ymin = np.min(np.abs(datareg[1:]))/5\n",
    "ymax = 5*np.max(np.abs(datareg[1:]))\n",
    "plt.loglog(lmodes, np.abs(data[1:, 1]), label = '$h_{uu}^l$')\n",
    "plt.loglog(lmodes, np.abs(datareg[1:, 1]), label = '$h_{uu}^l - \\Phi^S_{[0]}$')\n",
    "for i in range(20):\n",
    "    plt.loglog(lmodes, ymax*10.**(2-0.5*i)*lmodes**(-2), '--', color='gray')\n",
    "plt.ylim(ymin, ymax)\n",
    "plt.xlim(1, lmax)\n",
    "plt.xlabel(\"$l$\")\n",
    "plt.ylabel(\"$|h_{uu}^{R,l}|$\")\n",
    "plt.legend()\n",
    "plt.show()"
   ]
  },
  {
   "cell_type": "code",
   "execution_count": 24,
   "metadata": {},
   "outputs": [
    {
     "name": "stdout",
     "output_type": "stream",
     "text": [
      "       message: The unconstrained solution is optimal.\n",
      "       success: True\n",
      "        status: 3\n",
      "           fun: [ 3.420e-09 -1.661e-08  2.254e-08  7.857e-10 -1.984e-08\n",
      "                  9.706e-09]\n",
      "             x: [-4.142e-01  1.938e-01  1.894e-01 -1.417e-01]\n",
      "           nit: 0\n",
      "          cost: 6.418656672009025e-16\n",
      "    optimality: 7.771561172376096e-15\n",
      "   active_mask: [ 0.000e+00  0.000e+00  0.000e+00  0.000e+00]\n",
      " unbounded_sol: (array([-4.142e-01,  1.938e-01,  1.894e-01, -1.417e-01]), array([ 1.284e-15]), 4, array([ 2.137e+01,  4.804e-01,  2.842e-03,  8.212e-06]))\n"
     ]
    }
   ],
   "source": [
    "from scipy.optimize import lsq_linear\n",
    "def lbasis(lmax):\n",
    "    return [1., ((lmax + 1)), ((lmax + 1)/(2*lmax + 1)/(2*lmax + 3)), ((lmax + 1)/(2*lmax + 1)/(2*lmax + 3)/(2*lmax - 1)/(2*lmax + 5))]\n",
    "\n",
    "# def lbasis(lmax):\n",
    "#     return [1., ((lmax + 1)), ((lmax + 1)/(2*lmax + 1)/(2*lmax + 3))]\n",
    "\n",
    "# def lbasis(lmax):\n",
    "#     return [1., ((lmax + 1)/(2*lmax + 1)/(2*lmax + 3)), ((lmax + 1)/(2*lmax + 1)/(2*lmax + 3)/(2*lmax - 1)/(2*lmax + 5))]\n",
    "\n",
    "lminTest = 5\n",
    "lmaxTest = lmax\n",
    "ysum = np.array([np.sum(huul[:lmax + 1, 1]) for lmax in range(lminTest, lmaxTest + 1)])\n",
    "xsum = np.array([lbasis(lmax) for lmax in range(lminTest, lmaxTest + 1)])\n",
    "\n",
    "b = lsq_linear(xsum, ysum)\n",
    "print(b)"
   ]
  },
  {
   "cell_type": "code",
   "execution_count": 25,
   "metadata": {},
   "outputs": [
    {
     "data": {
      "text/plain": [
       "1.063000668877212e-06"
      ]
     },
     "execution_count": 25,
     "metadata": {},
     "output_type": "execute_result"
    }
   ],
   "source": [
    "b.x[1] - huuregB"
   ]
  },
  {
   "cell_type": "code",
   "execution_count": 304,
   "metadata": {},
   "outputs": [
    {
     "data": {
      "image/png": "[encoded data removed]",
      "text/plain": [
       "<Figure size 640x480 with 1 Axes>"
      ]
     },
     "metadata": {},
     "output_type": "display_data"
    }
   ],
   "source": [
    "lmax = huuDataIRG[0].shape[0] - 1\n",
    "lmodes = np.arange(1., lmax+1)\n",
    "huuregB = b.x[1]\n",
    "huul = orbit_average_polar(huuDataIRG[0], geoInc, axis = 1)\n",
    "datareg = huul - huuregB\n",
    "ymin = np.min(np.abs(datareg[1:]))/5\n",
    "ymax = 5*np.max(np.abs(datareg[1:]))\n",
    "plt.loglog(lmodes, np.abs(datareg[1:]))\n",
    "for i in range(20):\n",
    "    plt.loglog(lmodes, ymax*10.**(2-0.5*i)*lmodes**(-2), '--', color='gray')\n",
    "plt.ylim(ymin, ymax)\n",
    "plt.xlim(1, lmax)\n",
    "plt.xlabel(\"$l$\")\n",
    "plt.ylabel(\"$|h_{uu}^l - B_0|$\")\n",
    "plt.show()"
   ]
  },
  {
   "cell_type": "code",
   "execution_count": 366,
   "metadata": {},
   "outputs": [],
   "source": [
    "# from pybhpt.geo import KerrGeodesic\n",
    "# from pybhpt.redshift import circular_redshift_export\n",
    "# geoCirc = KerrGeodesic(0., 10., 0.0, 1.0, 2**2)\n",
    "# circular_redshift_export(\"test.txt\", \"ORG\", 2, geoCirc)"
   ]
  },
  {
   "cell_type": "code",
   "execution_count": 22,
   "metadata": {},
   "outputs": [
    {
     "name": "stdout",
     "output_type": "stream",
     "text": [
      "(0.008763336582675862-0.002949020148629884j) (0.47322017546449613-0.1592470880260136j) 0.018518518518518535\n"
     ]
    }
   ],
   "source": [
    "geo = KerrGeodesic(0., 6., 0., 1.0, 2**2)\n",
    "m = 2\n",
    "teuk = TeukolskyMode(-2, m, m, 0, 0, geo)\n",
    "teuk.solve(geo)\n",
    "print(teuk.amplitude('Up'),\n",
    "      teuk.amplitude('Up')/geo.mode_frequency(m, 0, 0)**2, \n",
    "      geo.mode_frequency(m, 0, 0)**2)"
   ]
  },
  {
   "cell_type": "code",
   "execution_count": 23,
   "metadata": {},
   "outputs": [
    {
     "name": "stdout",
     "output_type": "stream",
     "text": [
      "(0.007982096601320758-0.0027202774414030856j) (0.44582198454384575-0.15193495493846934j) 0.017904223833842214\n"
     ]
    }
   ],
   "source": [
    "geo = KerrGeodesic(0.25, 6., 0., 1.0, 2**2)\n",
    "m = 2\n",
    "teuk = TeukolskyMode(-2, m, m, 0, 0, geo)\n",
    "teuk.solve(geo)\n",
    "print(teuk.amplitude('Up'),\n",
    "      teuk.amplitude('Up')/geo.mode_frequency(m, 0, 0)**2, \n",
    "      geo.mode_frequency(m, 0, 0)**2)"
   ]
  },
  {
   "cell_type": "code",
   "execution_count": 24,
   "metadata": {},
   "outputs": [],
   "source": [
    "geo = KerrGeodesic(0., 7., 0., 1.0, 2**2)\n",
    "m = 2\n",
    "lmodes = np.arange(m, 16)\n",
    "jmodes = np.arange(m, 40)\n",
    "Zs = np.zeros(lmodes.shape[0], dtype=np.complex128)\n",
    "for j in jmodes:\n",
    "    teuk = TeukolskyMode(-2, j, m, 0, 0, geo)\n",
    "    teuk.solve(geo)\n",
    "    for l in lmodes:\n",
    "        Z = teuk.couplingcoefficient(l)*teuk.amplitude('Up')\n",
    "        Zs[l-m] += Z"
   ]
  },
  {
   "cell_type": "code",
   "execution_count": 25,
   "metadata": {},
   "outputs": [],
   "source": [
    "comparison=np.array([7.96233358e-01-2.64339239e-01j, 3.26116438e-02-1.78284989e-02j,\n",
    "       3.01992796e-03-1.94391386e-03j, 1.08462121e-04-7.90232072e-05j,\n",
    "       7.07885016e-06-5.62397831e-06j, 2.01742927e-07-1.72430029e-07j,\n",
    "       1.01260565e-08-9.18856175e-09j, 2.35628290e-10-2.25437583e-10j,\n",
    "       9.59773545e-12-9.61726001e-12j, 1.87893538e-13-1.96359571e-13j,\n",
    "       6.43702345e-15-6.98757969e-15j, 1.08572641e-16-1.22077267e-16j,\n",
    "       3.20890107e-18-3.72706056e-18j, 4.75046181e-20-5.68798318e-20j])"
   ]
  },
  {
   "cell_type": "code",
   "execution_count": 26,
   "metadata": {},
   "outputs": [
    {
     "data": {
      "text/plain": [
       "array([7.96233350e-01-2.64339220e-01j, 3.26116422e-02-1.78284971e-02j,\n",
       "       3.01992799e-03-1.94391369e-03j, 1.08462123e-04-7.90232012e-05j,\n",
       "       7.07885019e-06-5.62397786e-06j, 2.01742910e-07-1.72430002e-07j,\n",
       "       1.01260550e-08-9.18855955e-09j, 2.35628258e-10-2.25437525e-10j,\n",
       "       9.59773216e-12-9.61725596e-12j, 1.87893436e-13-1.96359453e-13j,\n",
       "       6.43701920e-15-6.98757466e-15j, 1.08572549e-16-1.22077157e-16j,\n",
       "       3.20889780e-18-3.72705656e-18j, 4.75045635e-20-5.68797632e-20j])"
      ]
     },
     "execution_count": 26,
     "metadata": {},
     "output_type": "execute_result"
    }
   ],
   "source": [
    "amps=2.*Zs/geo.mode_frequency(m, 0, 0)**2\n",
    "amps"
   ]
  },
  {
   "attachments": {},
   "cell_type": "markdown",
   "metadata": {},
   "source": [
    "## Generic"
   ]
  },
  {
   "cell_type": "code",
   "execution_count": null,
   "metadata": {},
   "outputs": [],
   "source": [
    "class ModeSummer:\n",
    "    def __init__(self, shape, dtype=np.float64, error_compare = None, rtol = 1.e-14, atol = 1.e-12):\n",
    "        self.sum = np.zeros(shape, dtype=dtype)\n",
    "        self.prior = np.zeros(shape, dtype=dtype) + 1.e-20\n",
    "        self.max_value = np.abs(self.sum)\n",
    "        self.rel_error = np.ones(shape)\n",
    "        self.abs_error = np.ones(shape)\n",
    "        self.error_compare = error_compare\n",
    "        self.rtol = rtol\n",
    "        self.atol = atol\n",
    "        self.passes = 0\n",
    "        self.precision_loss = np.ones(shape)\n",
    "        self.eps = np.abs(np.finfo(dtype).eps)\n",
    "    \n",
    "    def add(self, term):\n",
    "        self.prior = self.sum.copy()\n",
    "        self.prior[np.abs(self.prior) == 0.] = 1.e-20\n",
    "        self.sum += term\n",
    "        self.track_precision(term)\n",
    "\n",
    "        if self.error_compare is None:\n",
    "            sum_compare = self.prior\n",
    "        else:\n",
    "            sum_compare = self.error_compare\n",
    "        \n",
    "        self.rel_error = np.abs(1. - self.sum/sum_compare)\n",
    "        self.abs_error = np.abs(self.sum - self.prior)\n",
    "\n",
    "    def track_precision(self, term):\n",
    "        absTerm = np.abs(term)\n",
    "        self.max_value = np.maximum(self.max_value, absTerm)\n",
    "        absSum = np.abs(self.sum)\n",
    "        nonzeros = (absSum > 0)\n",
    "        zeros = np.invert(nonzeros)\n",
    "        loss_check = absTerm.copy()\n",
    "        loss_check[nonzeros] = (np.abs(self.prior[nonzeros]) + absTerm[nonzeros])/absSum[nonzeros]\n",
    "        loss_check[zeros] = np.log10(absTerm[zeros])\n",
    "        prec_loss = (loss_check >= 1.)\n",
    "        prec_gain = np.invert(prec_loss)\n",
    "        nonzero_gain = np.minimum(prec_gain, nonzeros)\n",
    "        \n",
    "\n",
    "        self.precision_loss[prec_loss] *= loss_check[prec_loss]\n",
    "        self.precision_loss[nonzero_gain] *= np.abs(self.prior[nonzero_gain]/absTerm[nonzero_gain])\n",
    "        self.precision_loss[self.precision_loss < 1.] = 1.\n",
    "        self.precision_loss\n",
    "\n",
    "    def error_test(self):\n",
    "        rel_error_check = self.rel_error < (self.rtol*self.precision_loss)\n",
    "        abs_error_check = self.abs_error < self.atol\n",
    "        tot_error_check = np.maximum(rel_error_check, abs_error_check)\n",
    "        \n",
    "        if np.all(tot_error_check):\n",
    "            self.passes += 1\n",
    "\n",
    "    @property\n",
    "    def precisions(self):\n",
    "        return self.precision_loss*self.eps\n",
    "        "
   ]
  },
  {
   "cell_type": "code",
   "execution_count": 361,
   "metadata": {},
   "outputs": [],
   "source": [
    "def construct_hertz_radial_components(hertz, samples = 2**6):\n",
    "    samples_half = int(samples/2 + 1)\n",
    "    hertzR0In = np.array([hertz.radialsolution('In', i) for i in range(samples_half)])\n",
    "    hertzR0Up = np.array([hertz.radialsolution('Up', i) for i in range(samples_half)])\n",
    "    hertzR1In = np.array([hertz.radialderivative('In', i) for i in range(samples_half)])\n",
    "    hertzR1Up = np.array([hertz.radialderivative('Up', i) for i in range(samples_half)])\n",
    "    hertzR2In = np.array([hertz.radialderivative2('In', i) for i in range(samples_half)])\n",
    "    hertzR2Up = np.array([hertz.radialderivative2('Up', i) for i in range(samples_half)])\n",
    "    hertzR = np.array(\n",
    "        [[np.concatenate((hertzR0In, np.flip(hertzR0In)[1:-1])), np.concatenate((hertzR0Up, np.flip(hertzR0Up)[1:-1]))], \n",
    "        [np.concatenate((hertzR1In, np.flip(hertzR1In)[1:-1])), np.concatenate((hertzR1Up, np.flip(hertzR1Up)[1:-1]))], \n",
    "        [np.concatenate((hertzR2In, np.flip(hertzR2In)[1:-1])), np.concatenate((hertzR2Up, np.flip(hertzR2Up)[1:-1]))]])\n",
    "    return hertzR\n",
    "\n",
    "\n",
    "def construct_hertz_polar_spin_weighting(hertz, samples = 2**6):\n",
    "    samples_half = int(samples/2 + 1)\n",
    "    th = np.array([hertz.polarpoint(i) for i in range(samples_half)])\n",
    "    thp = full_libration(th)\n",
    "    sth = np.sin(thp)\n",
    "    spinWeightingPolar = np.array(\n",
    "        [pow(sth, -2),\n",
    "        pow(sth, -1),\n",
    "        pow(sth, 0)]\n",
    "    )\n",
    "    return spinWeightingPolar\n",
    "\n",
    "def redshift_mode_inc(coeffs, hertz, l, samples = 2**6):\n",
    "    m = hertz.azimuthalmode\n",
    "    omega = hertz.frequency\n",
    "    s_sgn = np.sign(hertz.spinweight)\n",
    "    huu = np.zeros((samples, 2), dtype=np.complex128)\n",
    "    hertzR = construct_hertz_radial_components_circ(hertz)\n",
    "    spinWeightingPolar = construct_hertz_polar_spin_weighting(hertz, samples=samples)\n",
    "    for ns in range(0, 3):\n",
    "        scalar_coupling = 0.\n",
    "        llmin = np.max([np.abs(m), 2, l - 3 + ns])\n",
    "        llmax = np.max([llmin, l + 3 - ns])\n",
    "        for ll in range(llmin, llmax + 1):\n",
    "            Jterm = spin_operator_normalization(s_sgn*2, ns, ll)\n",
    "            scalar_coupling += Jterm*hertz.couplingcoefficient(ll)*Asjlm(s_sgn*(2-ns), l, ll, m)\n",
    "        for nt in range(0, 3):\n",
    "            for nph in range(0, 3):\n",
    "                pref = (1.j*m)**nph*(-1.j*omega)**nt\n",
    "                for nr in range(0, 3):\n",
    "                    if nt + nr + ns + nph <= 2:\n",
    "                        hNabcd0 = np.array([coeffs(0, nt, nr, ns, nph, 0, i) for i in range(samples)])\n",
    "                        hNabcd0 *= spinWeightingPolar[ns]\n",
    "                        hNabcd = np.array([hNabcd0, hNabcd0]).T\n",
    "                        huuTerm = -pref*hNabcd*scalar_coupling*hertzR[nr]\n",
    "                        # if np.sum(huuTerm) == 0 and np.sum(hNabcd0) != 0:\n",
    "                        #     print(nt, nr, ns, nph)\n",
    "                        #     print(pref, spinWeightingPolar[ns], scalar_coupling, hertzR[nr])\n",
    "                        huu += huuTerm\n",
    "    return huu\n",
    "\n",
    "def redshift_calc_inc(gauge, lmax, geo, krange = [-10, 10]):\n",
    "    if isinstance(gauge, str):\n",
    "        if gauge == \"SAAB\":\n",
    "            return redshift_calc_inc([\"SAAB0\", \"SAAB4\"], lmax, geo, krange=krange)\n",
    "        elif gauge == \"ASAAB\":\n",
    "            return redshift_calc_inc([\"ASAAB0\", \"ASAAB4\"], lmax, geo, krange=krange)\n",
    "        gauges = [gauge]\n",
    "    else:\n",
    "        gauges = gauge\n",
    "    coeffs = []\n",
    "    for gauge in gauges:\n",
    "        coeffs.append(RedshiftCoefficients(gauge, geo))\n",
    "    samples = 2*(geo.polarpoints.shape[0] - 1)\n",
    "    huuYlm = np.zeros((lmax + 1, lmax + 1, samples, 2), dtype=np.complex128)\n",
    "    Ylms = np.zeros((lmax + 1, lmax + 1, samples, 2))\n",
    "    th = geo.polarpoints\n",
    "    thp = full_libration(th)\n",
    "    for m in range(-lmax, lmax + 1):\n",
    "        for l in range(m, lmax + 1):\n",
    "            ylm0 = np.array([np.real(sph_harm(m, l, 0., th)) for th in thp])\n",
    "            ylm = np.array([ylm0, ylm0]).T\n",
    "            Ylms[l, m] = ylm\n",
    "    s = choose_spin_from_gauge(gauges[0])\n",
    "    for m in tqdm(range(0, lmax + 1)):\n",
    "        jmin = np.max([abs(s), abs(m)])\n",
    "        jmax = lmax + 19\n",
    "        for j in range(jmin, jmax + 1):\n",
    "            kmin = krange[0]\n",
    "            kmax = krange[1]\n",
    "            for k in range(kmin, kmax + 1):\n",
    "                teuk = TeukolskyMode(s, j, m, k, 0, geo)\n",
    "                teuk.solve(geo)\n",
    "                psis = []\n",
    "                for i, gauge in enumerate(gauges):\n",
    "                    psis.append(HertzMode(teuk, gauge))\n",
    "                    psis[i].solve()\n",
    "                phaseUp = m*geo.azimuthalpolar - teuk.frequency*geo.timepolar\n",
    "                phaseDown = np.flip(-phaseUp)[1:-1]\n",
    "                phase = np.concatenate((phaseUp, phaseDown)) - 2.*np.pi*k*np.arange(samples)/samples\n",
    "                phaseArray = np.array([phase, phase]).T\n",
    "                for l in range(abs(m), lmax + 1):\n",
    "                    for coeff, psi in zip(coeffs, psis):\n",
    "                        huuMode = redshift_mode_inc(coeff, psi, l, samples=samples)\n",
    "                        if np.isnan(np.sum(huuMode)):\n",
    "                            print(\"Error \", j, l, m, k)\n",
    "                        else:\n",
    "                            huuTemp = huuMode*np.exp(1.j*phaseArray)*Ylms[l, m]\n",
    "                            # if l == 0:\n",
    "                            #     print(j, l, m, k)\n",
    "                            #     print(orbit_average_inc(huuTemp, geo, axis = 0))\n",
    "                            #     print(orbit_average_inc(huuMode, geo, axis = 0))\n",
    "                            huuYlm[l, m] += huuTemp\n",
    "    \n",
    "    huuYl = np.zeros((lmax + 1, samples, 2))\n",
    "    for l in range(0, lmax + 1):\n",
    "        huuYl[l] += 2.*np.real(huuYlm[l, 0])\n",
    "        for m in range(1, l + 1):\n",
    "            huuYl[l] += 2.*np.real(huuYlm[l, m])\n",
    "            huuYl[l] += 2.*np.real(np.roll(huuYlm[l, m], int(samples/2)))\n",
    "\n",
    "    return huuYl, huuYlm\n",
    "\n",
    "def redshift_mode_gen(coeffs, hertz, hertzR, hertzTh, l, samples = 2**6):\n",
    "    m = hertz.azimuthalmode\n",
    "    omega = hertz.frequency\n",
    "    s_sgn = np.sign(hertz.spinweight)\n",
    "    huu = np.zeros((2, samples, samples), dtype=np.complex128)\n",
    "    # hertzR = construct_hertz_radial_components(hertz, samples=samples)\n",
    "    # hertzTh = construct_hertz_polar_spin_weighting(hertz, samples=samples)\n",
    "    for ns in range(0, 3):\n",
    "        scalar_coupling = 0.\n",
    "        llmin = np.max([np.abs(m), 2, l - 3 + ns])\n",
    "        llmax = np.max([llmin, l + 3 - ns])\n",
    "        for ll in range(llmin, llmax + 1):\n",
    "            Jterm = spin_operator_normalization(s_sgn*2, ns, ll)\n",
    "            scalar_coupling += Jterm*hertz.couplingcoefficient(ll)*Asjlm(s_sgn*(2-ns), l, ll, m)\n",
    "        for nt in range(0, 3):\n",
    "            for nph in range(0, 3):\n",
    "                pref = (1.j*m)**nph*(-1.j*omega)**nt\n",
    "                for nr in range(0, 3):\n",
    "                    if nt + nr + ns + nph <= 2:\n",
    "                        hNabcd0 = np.array([[coeffs(0, nt, nr, ns, nph, i, j) for j in range(samples)] for i in range(samples)])\n",
    "                        huuR = -pref*hertzR[nr]\n",
    "                        huuTh = scalar_coupling*hertzTh[ns]\n",
    "                        huuTerm = np.array([np.outer(radial, huuTh)*hNabcd0 for radial in huuR])\n",
    "                        # if np.sum(huuTerm) == 0 and np.sum(hNabcd0) != 0:\n",
    "                        #     print(nt, nr, ns, nph)\n",
    "                        #     print(pref, spinWeightingPolar[ns], scalar_coupling, hertzR[nr])\n",
    "                        huu += huuTerm\n",
    "    return huu\n",
    "\n",
    "def redshift_calc_gen(gauge, lmax, geo, krange = [-10, 10], nrange = [-10, 10]):\n",
    "    if isinstance(gauge, str):\n",
    "        if gauge == \"SAAB\":\n",
    "            return redshift_calc_gen([\"SAAB0\", \"SAAB4\"], lmax, geo, krange=krange, nrange=nrange)\n",
    "        elif gauge == \"ASAAB\":\n",
    "            return redshift_calc_gen([\"ASAAB0\", \"ASAAB4\"], lmax, geo, krange=krange, nrange=nrange)\n",
    "        gauges = [gauge]\n",
    "    else:\n",
    "        gauges = gauge\n",
    "    coeffs = []\n",
    "    for gauge in gauges:\n",
    "        coeffs.append(RedshiftCoefficients(gauge, geo))\n",
    "    samples = 2*(geo.polarpoints.shape[0] - 1)\n",
    "    huuYlm = np.zeros((lmax + 1, lmax + 1, 2, samples, samples), dtype=np.complex128)\n",
    "    huuTemp = np.zeros((samples, samples), dtype=np.complex128)\n",
    "    Ylms = np.zeros((lmax + 1, lmax + 1, samples, samples))\n",
    "    th = geo.polarpoints\n",
    "    thp = full_libration(th)\n",
    "    r = geo.radialpoints\n",
    "    rp = full_libration(r)\n",
    "    for m in range(0, lmax + 1):\n",
    "        for l in range(m, lmax + 1):\n",
    "            ylm0 = np.array([np.real(sph_harm(m, l, 0., th)) for th in thp])\n",
    "            ylm = np.array([ylm0 for r in rp])\n",
    "            # ylm = np.array([ylm0M, ylm0M])\n",
    "            Ylms[l, m] = ylm\n",
    "    s = choose_spin_from_gauge(gauges[0])\n",
    "    kmin = krange[0]\n",
    "    kmax = krange[1]\n",
    "    nmin = nrange[0]\n",
    "    nmax = nrange[1]\n",
    "    for m in tqdm(range(0, lmax + 1)):\n",
    "        jmin = np.max([abs(s), abs(m)])\n",
    "        jmax = lmax + 19\n",
    "        for j in range(jmin, jmax + 1):\n",
    "            for k in range(kmin, kmax + 1):\n",
    "                for n in range(nmin, nmax + 1):\n",
    "                    teuk = TeukolskyMode(s, j, m, k, n, geo)\n",
    "                    teuk.solve(geo)\n",
    "                    psis = []\n",
    "                    for i, gauge in enumerate(gauges):\n",
    "                        psis.append(HertzMode(teuk, gauge))\n",
    "                        psis[i].solve()\n",
    "                    phaseUpTh = m*geo.azimuthalpolar - teuk.frequency*geo.timepolar\n",
    "                    phaseDownTh = np.flip(-phaseUpTh)[1:-1]\n",
    "                    phaseTh = np.concatenate((phaseUpTh, phaseDownTh)) - 2.*np.pi*k*np.arange(samples)/samples\n",
    "                    phaseUpR = m*geo.azimuthalradial - teuk.frequency*geo.timeradial\n",
    "                    phaseDownR = np.flip(-phaseUpR)[1:-1]\n",
    "                    phaseR = np.concatenate((phaseUpR, phaseDownR)) - 2.*np.pi*n*np.arange(samples)/samples\n",
    "                    phase = np.add.outer(phaseR, phaseTh)\n",
    "                    for l in range(abs(m), lmax + 1):\n",
    "                        for coeff, psi in zip(coeffs, psis):\n",
    "                            psiR = construct_hertz_radial_components(psi, samples=samples)\n",
    "                            psiTh = construct_hertz_polar_spin_weighting(psi, samples=samples)\n",
    "                            huuMode = redshift_mode_gen(coeff, psi, psiR, psiTh, l, samples=samples)\n",
    "                            if np.isnan(np.sum(huuMode)):\n",
    "                                print(\"Error \", j, l, m, k, n)\n",
    "                            else:\n",
    "                                for i in range(2): \n",
    "                                    huuTemp = huuMode[i]*np.exp(1.j*phase)*Ylms[l, m]\n",
    "                                    # if l == 0:\n",
    "                                    #     print(j, l, m, k, n)\n",
    "                                    #     print(orbit_average(huuTemp, geo, axis = 0))\n",
    "                                    #     print(orbit_average(huuMode[i], geo, axis = 0))\n",
    "                                    huuYlm[l, m][i] += huuTemp\n",
    "    \n",
    "    huuYl = np.zeros((lmax + 1, 2, samples, samples))\n",
    "    for l in range(0, lmax + 1):\n",
    "        huuYl[l] += 2.*np.real(huuYlm[l, 0])\n",
    "        for m in range(1, l + 1):\n",
    "            huuYl[l] += 2.*np.real(huuYlm[l, m])\n",
    "            huuYl[l] += 2.*np.real(np.roll(huuYlm[l, m], int(samples/2), axis = 1))\n",
    "\n",
    "    return huuYl, huuYlm\n",
    "\n",
    "def orbit_average(func, geo, axis = 0):\n",
    "    th = geo.polarpoints\n",
    "    r = geo.radialpoints\n",
    "    thp = full_libration(th)\n",
    "    rp = full_libration(r)\n",
    "    q = geo.blackholespin\n",
    "    sig = np.add.outer(rp**2, q**2*np.cos(thp)**2)\n",
    "    if func.shape[1] != 2:\n",
    "        sigA = np.array(sig)\n",
    "    else:\n",
    "        sigA = np.array([sig, sig])\n",
    "    return np.mean(np.mean(func*sigA, axis = axis), axis = axis)/np.mean(sig)"
   ]
  },
  {
   "cell_type": "code",
   "execution_count": 340,
   "metadata": {},
   "outputs": [],
   "source": [
    "def huu_reg(geo):\n",
    "    En = geo.orbitalenergy\n",
    "    Lz = geo.orbitalangularmomentum\n",
    "    Qc = geo.carterconstant\n",
    "    r = geo.radialpoints\n",
    "    r0 = full_libration(r)\n",
    "    th = geo.polarpoints\n",
    "    th0 = full_libration(th)\n",
    "    q = geo.blackholespin\n",
    "    rp = np.array([r0 for th in th0]).T\n",
    "    thp = np.array([th0 for r in r0])\n",
    "    return huu_reg_gen(q, En, Lz, Qc, rp, thp)"
   ]
  },
  {
   "cell_type": "code",
   "execution_count": 341,
   "metadata": {},
   "outputs": [
    {
     "name": "stderr",
     "output_type": "stream",
     "text": [
      "100%|██████████| 11/11 [02:23<00:00, 13.00s/it]\n"
     ]
    }
   ],
   "source": [
    "geoTest = KerrGeodesic(0.5, 10., 0., 0.9, 2**6)\n",
    "huuGenTest2 = redshift_calc_inc(\"IRG\", 10, geoTest, krange=[-8,8])"
   ]
  },
  {
   "cell_type": "code",
   "execution_count": 362,
   "metadata": {},
   "outputs": [
    {
     "name": "stderr",
     "output_type": "stream",
     "text": [
      " 24%|██▍       | 5/21 [21:54:15<70:05:37, 15771.11s/it]\n"
     ]
    },
    {
     "ename": "KeyboardInterrupt",
     "evalue": "",
     "output_type": "error",
     "traceback": [
      "\u001b[0;31m---------------------------------------------------------------------------\u001b[0m",
      "\u001b[0;31mKeyboardInterrupt\u001b[0m                         Traceback (most recent call last)",
      "Cell \u001b[0;32mIn[362], line 3\u001b[0m\n\u001b[1;32m      1\u001b[0m geoTest \u001b[39m=\u001b[39m KerrGeodesic(\u001b[39m0.5\u001b[39m, \u001b[39m10.\u001b[39m, \u001b[39m0.1\u001b[39m, \u001b[39m0.9\u001b[39m, \u001b[39m2\u001b[39m\u001b[39m*\u001b[39m\u001b[39m*\u001b[39m\u001b[39m6\u001b[39m)\n\u001b[1;32m      2\u001b[0m \u001b[39m# huuGenTest = redshift_calc_gen(\"IRG\", 10, geoTest, krange=[-8,8], nrange=[-10,10])\u001b[39;00m\n\u001b[0;32m----> 3\u001b[0m huuGenTest3 \u001b[39m=\u001b[39m redshift_calc_gen(\u001b[39m\"\u001b[39;49m\u001b[39mIRG\u001b[39;49m\u001b[39m\"\u001b[39;49m, \u001b[39m20\u001b[39;49m, geoTest, krange\u001b[39m=\u001b[39;49m[\u001b[39m-\u001b[39;49m\u001b[39m12\u001b[39;49m,\u001b[39m12\u001b[39;49m], nrange\u001b[39m=\u001b[39;49m[\u001b[39m-\u001b[39;49m\u001b[39m15\u001b[39;49m,\u001b[39m15\u001b[39;49m])\n",
      "Cell \u001b[0;32mIn[361], line 202\u001b[0m, in \u001b[0;36mredshift_calc_gen\u001b[0;34m(gauge, lmax, geo, krange, nrange)\u001b[0m\n\u001b[1;32m    200\u001b[0m psiR \u001b[39m=\u001b[39m construct_hertz_radial_components(psi, samples\u001b[39m=\u001b[39msamples)\n\u001b[1;32m    201\u001b[0m psiTh \u001b[39m=\u001b[39m construct_hertz_polar_spin_weighting(psi, samples\u001b[39m=\u001b[39msamples)\n\u001b[0;32m--> 202\u001b[0m huuMode \u001b[39m=\u001b[39m redshift_mode_gen(coeff, psi, psiR, psiTh, l, samples\u001b[39m=\u001b[39;49msamples)\n\u001b[1;32m    203\u001b[0m \u001b[39mif\u001b[39;00m np\u001b[39m.\u001b[39misnan(np\u001b[39m.\u001b[39msum(huuMode)):\n\u001b[1;32m    204\u001b[0m     \u001b[39mprint\u001b[39m(\u001b[39m\"\u001b[39m\u001b[39mError \u001b[39m\u001b[39m\"\u001b[39m, j, l, m, k, n)\n",
      "Cell \u001b[0;32mIn[361], line 138\u001b[0m, in \u001b[0;36mredshift_mode_gen\u001b[0;34m(coeffs, hertz, hertzR, hertzTh, l, samples)\u001b[0m\n\u001b[1;32m    136\u001b[0m \u001b[39mfor\u001b[39;00m nr \u001b[39min\u001b[39;00m \u001b[39mrange\u001b[39m(\u001b[39m0\u001b[39m, \u001b[39m3\u001b[39m):\n\u001b[1;32m    137\u001b[0m     \u001b[39mif\u001b[39;00m nt \u001b[39m+\u001b[39m nr \u001b[39m+\u001b[39m ns \u001b[39m+\u001b[39m nph \u001b[39m<\u001b[39m\u001b[39m=\u001b[39m \u001b[39m2\u001b[39m:\n\u001b[0;32m--> 138\u001b[0m         hNabcd0 \u001b[39m=\u001b[39m np\u001b[39m.\u001b[39marray([[coeffs(\u001b[39m0\u001b[39m, nt, nr, ns, nph, i, j) \u001b[39mfor\u001b[39;00m j \u001b[39min\u001b[39;00m \u001b[39mrange\u001b[39m(samples)] \u001b[39mfor\u001b[39;00m i \u001b[39min\u001b[39;00m \u001b[39mrange\u001b[39m(samples)])\n\u001b[1;32m    139\u001b[0m         huuR \u001b[39m=\u001b[39m \u001b[39m-\u001b[39mpref\u001b[39m*\u001b[39mhertzR[nr]\n\u001b[1;32m    140\u001b[0m         huuTh \u001b[39m=\u001b[39m scalar_coupling\u001b[39m*\u001b[39mhertzTh[ns]\n",
      "Cell \u001b[0;32mIn[361], line 138\u001b[0m, in \u001b[0;36m<listcomp>\u001b[0;34m(.0)\u001b[0m\n\u001b[1;32m    136\u001b[0m \u001b[39mfor\u001b[39;00m nr \u001b[39min\u001b[39;00m \u001b[39mrange\u001b[39m(\u001b[39m0\u001b[39m, \u001b[39m3\u001b[39m):\n\u001b[1;32m    137\u001b[0m     \u001b[39mif\u001b[39;00m nt \u001b[39m+\u001b[39m nr \u001b[39m+\u001b[39m ns \u001b[39m+\u001b[39m nph \u001b[39m<\u001b[39m\u001b[39m=\u001b[39m \u001b[39m2\u001b[39m:\n\u001b[0;32m--> 138\u001b[0m         hNabcd0 \u001b[39m=\u001b[39m np\u001b[39m.\u001b[39marray([[coeffs(\u001b[39m0\u001b[39m, nt, nr, ns, nph, i, j) \u001b[39mfor\u001b[39;00m j \u001b[39min\u001b[39;00m \u001b[39mrange\u001b[39;49m(samples)] \u001b[39mfor\u001b[39;00m i \u001b[39min\u001b[39;00m \u001b[39mrange\u001b[39m(samples)])\n\u001b[1;32m    139\u001b[0m         huuR \u001b[39m=\u001b[39m \u001b[39m-\u001b[39mpref\u001b[39m*\u001b[39mhertzR[nr]\n\u001b[1;32m    140\u001b[0m         huuTh \u001b[39m=\u001b[39m scalar_coupling\u001b[39m*\u001b[39mhertzTh[ns]\n",
      "\u001b[0;31mKeyboardInterrupt\u001b[0m: "
     ]
    }
   ],
   "source": [
    "geoTest = KerrGeodesic(0.5, 10., 0.1, 0.9, 2**6)\n",
    "# huuGenTest = redshift_calc_gen(\"IRG\", 10, geoTest, krange=[-8,8], nrange=[-10,10])\n",
    "huuGenTest3 = redshift_calc_gen(\"IRG\", 20, geoTest, krange=[-12,12], nrange=[-15,15])"
   ]
  },
  {
   "cell_type": "code",
   "execution_count": 350,
   "metadata": {},
   "outputs": [
    {
     "name": "stderr",
     "output_type": "stream",
     "text": [
      "100%|██████████| 11/11 [14:08:31<00:00, 4628.28s/it] \n"
     ]
    }
   ],
   "source": [
    "huuGenTest2 = redshift_calc_gen(\"IRG\", 10, geoTest, krange=[-12,12], nrange=[-15,15])"
   ]
  },
  {
   "cell_type": "code",
   "execution_count": 191,
   "metadata": {},
   "outputs": [],
   "source": [
    "foo = []\n",
    "orbAvgLMs = orbit_average(huuDataTest[1], geoEcc, axis = 3)\n",
    "for l in range(0, 21):\n",
    "    for m in range(0, l):\n",
    "        foo.append([l, m, orbAvgLMs[l, m][0], orbAvgLMs[l, m][1]])\n"
   ]
  },
  {
   "cell_type": "code",
   "execution_count": 347,
   "metadata": {},
   "outputs": [],
   "source": [
    "np.savetxt(\"huuGen_test2_l.txt\", orbit_average(huuDataTest[0], geoEcc, axis = 2))\n",
    "np.savetxt(\"huuGen_test2_lm.txt\", foo)"
   ]
  },
  {
   "cell_type": "code",
   "execution_count": 360,
   "metadata": {},
   "outputs": [
    {
     "data": {
      "text/plain": [
       "array([[1.81004907e-12, 5.22276233e-13],\n",
       "       [4.41485598e-11, 1.47790755e-11],\n",
       "       [7.26833121e-10, 1.97837829e-10],\n",
       "       [7.99323058e-09, 1.48758952e-09],\n",
       "       [1.46156162e-07, 1.36466955e-07],\n",
       "       [9.14764273e-07, 9.76622945e-07],\n",
       "       [4.51879272e-06, 4.94451747e-06],\n",
       "       [1.83732836e-05, 1.82891623e-05],\n",
       "       [5.73365512e-05, 5.62141006e-05],\n",
       "       [1.49352897e-04, 1.50076462e-04],\n",
       "       [3.48838853e-04, 3.55726193e-04]])"
      ]
     },
     "execution_count": 360,
     "metadata": {},
     "output_type": "execute_result"
    }
   ],
   "source": [
    "np.max(np.max(np.abs(huuGenTest2[0] - huuGenTest[0]), axis = 2), axis = 2)"
   ]
  },
  {
   "cell_type": "code",
   "execution_count": 351,
   "metadata": {},
   "outputs": [
    {
     "data": {
      "image/png": "[encoded data removed]",
      "text/plain": [
       "<Figure size 640x480 with 1 Axes>"
      ]
     },
     "metadata": {},
     "output_type": "display_data"
    }
   ],
   "source": [
    "huuDataTest = huuGenTest2\n",
    "lmax = huuDataTest[0].shape[0] - 1\n",
    "lmodes = np.arange(1., lmax+1)\n",
    "huuregB = orbit_average(huu_reg(geoEcc), geoEcc)\n",
    "huul = orbit_average(huuDataTest[0], geoEcc, axis = 2)\n",
    "datareg = huul - huuregB\n",
    "ymin = np.min(np.abs(datareg[1:lmax + 1]))/5\n",
    "ymax = 5*np.max(np.abs(datareg[1:lmax +1]))\n",
    "plt.loglog(lmodes, np.abs(datareg[1:lmax + 1]), '.')\n",
    "for i in range(20):\n",
    "    plt.loglog(lmodes, ymax*10.**(2-0.5*i)*lmodes**(-2), '--', color='gray')\n",
    "plt.ylim(ymin, ymax)\n",
    "plt.xlim(1, lmax)\n",
    "plt.xlabel(\"$l$\")\n",
    "plt.ylabel(\"$|h_{uu}^l - B_0|$\")\n",
    "plt.show()"
   ]
  },
  {
   "attachments": {},
   "cell_type": "markdown",
   "metadata": {},
   "source": [
    "# Hertz Tests"
   ]
  },
  {
   "cell_type": "code",
   "execution_count": 27,
   "metadata": {},
   "outputs": [
    {
     "ename": "ImportError",
     "evalue": "cannot import name 'teukolsky_starobinsky_const' from 'pybhpt.radial' (/Users/znasipak/opt/anaconda3/lib/python3.8/site-packages/pybhpt/radial.py)",
     "output_type": "error",
     "traceback": [
      "\u001b[0;31m---------------------------------------------------------------------------\u001b[0m",
      "\u001b[0;31mImportError\u001b[0m                               Traceback (most recent call last)",
      "Cell \u001b[0;32mIn[27], line 2\u001b[0m\n\u001b[1;32m      1\u001b[0m \u001b[39mfrom\u001b[39;00m \u001b[39mpybhpt\u001b[39;00m\u001b[39m.\u001b[39;00m\u001b[39mgeo\u001b[39;00m \u001b[39mimport\u001b[39;00m KerrGeodesic\n\u001b[0;32m----> 2\u001b[0m \u001b[39mfrom\u001b[39;00m \u001b[39mpybhpt\u001b[39;00m\u001b[39m.\u001b[39;00m\u001b[39mradial\u001b[39;00m \u001b[39mimport\u001b[39;00m RadialTeukolsky, teukolsky_starobinsky_const, teukolsky_starobinsky_const_squared, teukolsky_starobinsky_transformation_amplitude\n\u001b[1;32m      3\u001b[0m \u001b[39mfrom\u001b[39;00m \u001b[39mpybhpt\u001b[39;00m\u001b[39m.\u001b[39;00m\u001b[39mteuk\u001b[39;00m \u001b[39mimport\u001b[39;00m TeukolskyMode\n\u001b[1;32m      4\u001b[0m \u001b[39mfrom\u001b[39;00m \u001b[39mpybhpt\u001b[39;00m\u001b[39m.\u001b[39;00m\u001b[39mhertz\u001b[39;00m \u001b[39mimport\u001b[39;00m HertzMode\n",
      "\u001b[0;31mImportError\u001b[0m: cannot import name 'teukolsky_starobinsky_const' from 'pybhpt.radial' (/Users/znasipak/opt/anaconda3/lib/python3.8/site-packages/pybhpt/radial.py)"
     ]
    }
   ],
   "source": [
    "from pybhpt.geo import KerrGeodesic\n",
    "from pybhpt.radial import RadialTeukolsky, teukolsky_starobinsky_const, teukolsky_starobinsky_const_squared, teukolsky_starobinsky_transformation_amplitude\n",
    "from pybhpt.teuk import TeukolskyMode\n",
    "from pybhpt.hertz import HertzMode\n",
    "import numpy as np\n",
    "import matplotlib.pyplot as plt"
   ]
  },
  {
   "cell_type": "code",
   "execution_count": null,
   "metadata": {},
   "outputs": [
    {
     "name": "stdout",
     "output_type": "stream",
     "text": [
      "(7.105427357601002e-15-7.456585479159559e-15j)\n",
      "(9.658940314238862e-15-6.05907635649863e-15j)\n"
     ]
    }
   ],
   "source": [
    "gauge = 'IRG'\n",
    "geo = KerrGeodesic(0.0, 10., 0., 1.0, 2**2)\n",
    "teuk = TeukolskyMode(-2, 2, 2, 0, 0, geo)\n",
    "teuk.solve(geo)\n",
    "teuk2 = TeukolskyMode(2, 2, 2, 0, 0, geo)\n",
    "teuk2.solve(geo)\n",
    "# print(teuk.teukolsky_amplitude('Up'), teuk.teukolsky_amplitude('In'))\n",
    "# print(teuk2.teukolsky_amplitude('Up'), teuk2.teukolsky_amplitude('In'))\n",
    "hertz = HertzMode(teuk, gauge)\n",
    "hertz.solve()\n",
    "hertz2 = HertzMode(teuk2, gauge)\n",
    "hertz2.solve()\n",
    "print(1.-hertz.hertz_amplitude('In')/hertz2.hertz_amplitude('In'))\n",
    "print(1.-hertz.hertz_amplitude('Up')/hertz2.hertz_amplitude('Up'))"
   ]
  },
  {
   "cell_type": "code",
   "execution_count": null,
   "metadata": {},
   "outputs": [
    {
     "data": {
      "text/plain": [
       "0.31539156525252005"
      ]
     },
     "execution_count": 3,
     "metadata": {},
     "output_type": "execute_result"
    }
   ],
   "source": [
    "teuk.polarderivative2(0)"
   ]
  },
  {
   "cell_type": "code",
   "execution_count": null,
   "metadata": {},
   "outputs": [
    {
     "name": "stdout",
     "output_type": "stream",
     "text": [
      "(7805.205087483126-3566.0391460544965j) (5754.689772338229+1787.964816320343j)\n"
     ]
    }
   ],
   "source": [
    "teuk2.flip_spinweight()\n",
    "print(teuk2.homogeneousradialsolution(\"Up\",0), teuk2.homogeneousradialsolution(\"In\",0))"
   ]
  },
  {
   "cell_type": "code",
   "execution_count": null,
   "metadata": {},
   "outputs": [
    {
     "name": "stdout",
     "output_type": "stream",
     "text": [
      "(7805.205087483177-3566.0391460545716j) (5754.689772338282+1787.9648163203215j)\n",
      "(-1154.0968402255266-57.038813202541675j) (2478.4935684542656+1028.8022626558172j)\n",
      "(180.47798538662056+47.12152909987117j) (759.9558699786124+468.93583025889j)\n"
     ]
    }
   ],
   "source": [
    "print(teuk.homogeneousradialsolution(\"Up\",0), teuk.homogeneousradialsolution(\"In\",0))\n",
    "print(teuk.homogeneousradialderivative(\"Up\",0), teuk.homogeneousradialderivative(\"In\",0))\n",
    "print(teuk.homogeneousradialderivative2(\"Up\",0), teuk.homogeneousradialderivative2(\"In\",0))"
   ]
  },
  {
   "cell_type": "code",
   "execution_count": null,
   "metadata": {},
   "outputs": [
    {
     "name": "stdout",
     "output_type": "stream",
     "text": [
      "(0.0011206407919254133-0.00030576083845814463j) (0.0014710247263310515+0.000386130529924687j)\n",
      "(0.0011206407919254222-0.00030576083845815433j) (0.001471024726331065+0.00038613052992467884j)\n"
     ]
    }
   ],
   "source": [
    "print(teuk.teukolsky_amplitude('Up'), teuk.teukolsky_amplitude('In'))\n",
    "print(teuk2.teukolsky_amplitude('Up'), teuk2.teukolsky_amplitude('In'))"
   ]
  },
  {
   "cell_type": "code",
   "execution_count": null,
   "metadata": {},
   "outputs": [],
   "source": [
    "Rt=RadialTeukolsky(0., -2, 2, 2, teuk2.frequency, np.array([10.]))\n",
    "Rt.solve('AUTO')"
   ]
  },
  {
   "cell_type": "code",
   "execution_count": null,
   "metadata": {},
   "outputs": [
    {
     "name": "stdout",
     "output_type": "stream",
     "text": [
      "2529.8221281347032 (-12438348524.679253-10363928701.344622j) (641189319.6786355-799521573.9794998j)\n",
      "10.0 (7805.205087483177-3566.0391460545716j) (-1154.0968402255266-57.038813202541675j)\n"
     ]
    }
   ],
   "source": [
    "print(Rt.boundarypoint('Up'), Rt.boundarysolution('Up'), Rt.boundaryderivative('Up'))\n",
    "print(Rt.radialpoint(0), Rt.solution('Up', 0), Rt.derivative('Up', 0))"
   ]
  },
  {
   "cell_type": "code",
   "execution_count": null,
   "metadata": {},
   "outputs": [
    {
     "data": {
      "text/plain": [
       "(2.1,\n",
       " (0.04246915511395833+0.011602313063489347j),\n",
       " (0.9022050017769013+0.19508941066089294j))"
      ]
     },
     "execution_count": 9,
     "metadata": {},
     "output_type": "execute_result"
    }
   ],
   "source": [
    "Rt.boundarypoint('In'), Rt.boundarysolution('In'), Rt.boundaryderivative('In')"
   ]
  },
  {
   "cell_type": "code",
   "execution_count": null,
   "metadata": {},
   "outputs": [],
   "source": []
  },
  {
   "attachments": {},
   "cell_type": "markdown",
   "metadata": {},
   "source": [
    "# Mathematica to Python"
   ]
  },
  {
   "cell_type": "code",
   "execution_count": null,
   "metadata": {},
   "outputs": [],
   "source": [
    "from sympy.parsing.mathematica import parse_mathematica\n",
    "from sympy import var, Function, N\n",
    "a, r, l, l1, m1, m, q, Omega = var('a r l l1 m1 m q Omega')\n",
    "Hertz = Function(\"HertzFunc\")\n",
    "HertzDagger = Function(\"HertzDaggerFunc\")\n",
    "mu = Function(\"muCoupling\")\n",
    "CC = Function(\"C3Product\")"
   ]
  },
  {
   "attachments": {},
   "cell_type": "markdown",
   "metadata": {},
   "source": [
    "## $h_{22}$"
   ]
  },
  {
   "cell_type": "code",
   "execution_count": null,
   "metadata": {},
   "outputs": [
    {
     "name": "stdout",
     "output_type": "stream",
     "text": [
      "(q**4 - 5*r**4)*(HertzDaggerFunc(l, m, 0) + HertzFunc(l, m, 0))*muCoupling(l, 1)*muCoupling(l, 2)/40\n"
     ]
    }
   ],
   "source": [
    "expr=\"((q^4 - 5*r^4)*(HertzDaggerFunc[l, m, 0] + HertzFunc[l, m, 0])*muCoupling[l, 1]*muCoupling[l, 2])/40\"\n",
    "math_expr=parse_mathematica(expr)\n",
    "print(math_expr)"
   ]
  },
  {
   "cell_type": "code",
   "execution_count": null,
   "metadata": {},
   "outputs": [
    {
     "name": "stdout",
     "output_type": "stream",
     "text": [
      "sqrt(pi)*q*(-16*sqrt(1365)*Omega**2*m1**2*q**5*C3Product(l, m, 0, 6, 0, -2, l1, m1, 2)*HertzDaggerFunc(l1, m1, 0) - 16*sqrt(1365)*Omega**2*m1**2*q**5*C3Product(l, m, 0, l1, m1, -2, 6, 0, 2)*HertzFunc(l1, m1, 0) + 52*sqrt(2310)*Omega*m1*q**4*(-I*Omega*m1*r - 1)*C3Product(l, m, 0, l1, m1, -2, 5, 0, 2)*HertzFunc(l1, m1, 0) + 52*sqrt(2310)*Omega*m1*q**4*(I*Omega*m1*r + 1)*C3Product(l, m, 0, 5, 0, -2, l1, m1, 2)*HertzDaggerFunc(l1, m1, 0) - 104*sqrt(330)*I*Omega*m1*q**4*C3Product(l, m, 0, 5, 0, -1, l1, m1, 1)*HertzDaggerFunc(l1, m1, 0)*muCoupling(l1, 2) + 104*sqrt(330)*I*Omega*m1*q**4*C3Product(l, m, 0, l1, m1, -1, 5, 0, 1)*HertzFunc(l1, m1, 0)*muCoupling(l1, 2) + 156*sqrt(10)*Omega*m1*q**3*(-3*Omega*m1*q**2 + 11*I*r)*C3Product(l, m, 0, 4, 0, -2, l1, m1, 2)*HertzDaggerFunc(l1, m1, 0) + 156*sqrt(10)*Omega*m1*q**3*(-3*Omega*m1*q**2 + 11*I*r)*C3Product(l, m, 0, l1, m1, -2, 4, 0, 2)*HertzFunc(l1, m1, 0) + 143*sqrt(30)*Omega*m1*q*(-Omega*m1*(q**4 - 21*r**4) + 6*I*r*(q**2 - 7*r**2))*C3Product(l, m, 0, 2, 0, -2, l1, m1, 2)*HertzDaggerFunc(l1, m1, 0) + 143*sqrt(30)*Omega*m1*q*(-Omega*m1*(q**4 - 21*r**4) + 6*I*r*(q**2 - 7*r**2))*C3Product(l, m, 0, l1, m1, -2, 2, 0, 2)*HertzFunc(l1, m1, 0) + 1716*sqrt(5)*q**3*(-2*Omega*m1*r + I)*C3Product(l, m, 0, 4, 0, -1, l1, m1, 1)*HertzDaggerFunc(l1, m1, 0)*muCoupling(l1, 2) + 1716*sqrt(5)*q**3*(-2*Omega*m1*r + I)*C3Product(l, m, 0, l1, m1, -1, 4, 0, 1)*HertzFunc(l1, m1, 0)*muCoupling(l1, 2) + 2574*sqrt(5)*q**3*(HertzDaggerFunc(l1, m1, 0) + HertzFunc(l1, m1, 0))*C3Product(l, m, 0, 2, 0, 0, l1, m1, 0)*muCoupling(l1, 1)*muCoupling(l1, 2) + 1716*q**3*(HertzDaggerFunc(l1, m1, 0) + HertzFunc(l1, m1, 0))*C3Product(l, m, 0, 4, 0, 0, l1, m1, 0)*muCoupling(l1, 1)*muCoupling(l1, 2) + 2574*sqrt(7)*I*q**2*r*(-HertzDaggerFunc(l1, m1, 0) + HertzFunc(l1, m1, 0))*C3Product(l, m, 0, 3, 0, 0, l1, m1, 0)*muCoupling(l1, 1)*muCoupling(l1, 2) - 286*sqrt(210)*I*q**2*(Omega*m1*(q**2*(-Omega*m1*r + I) - 3*r**2*(Omega*m1*r - 3*I)) + 18*r)*C3Product(l, m, 0, 3, 0, -2, l1, m1, 2)*HertzDaggerFunc(l1, m1, 0) + 286*sqrt(210)*I*q**2*(Omega*m1*(q**2*(-Omega*m1*r + I) - 3*r**2*(Omega*m1*r - 3*I)) + 18*r)*C3Product(l, m, 0, l1, m1, -2, 3, 0, 2)*HertzFunc(l1, m1, 0) + 572*sqrt(21)*q**2*(-2*I*Omega*m1*q**2 - 3*r)*C3Product(l, m, 0, 3, 0, -1, l1, m1, 1)*HertzDaggerFunc(l1, m1, 0)*muCoupling(l1, 2) + 572*sqrt(21)*q**2*(2*I*Omega*m1*q**2 + 3*r)*C3Product(l, m, 0, l1, m1, -1, 3, 0, 1)*HertzFunc(l1, m1, 0)*muCoupling(l1, 2) + 429*sqrt(30)*I*q*(q**2*(6*I*Omega*m1*r + 3) + 7*r**2*(2*I*Omega*m1*r + 3))*C3Product(l, m, 0, 2, 0, -1, l1, m1, 1)*HertzDaggerFunc(l1, m1, 0)*muCoupling(l1, 2) + 429*sqrt(30)*I*q*(q**2*(6*I*Omega*m1*r + 3) + 7*r**2*(2*I*Omega*m1*r + 3))*C3Product(l, m, 0, l1, m1, -1, 2, 0, 1)*HertzFunc(l1, m1, 0)*muCoupling(l1, 2) + 3003*sqrt(3)*I*r*(3*q**2 + 5*r**2)*(-HertzDaggerFunc(l1, m1, 0) + HertzFunc(l1, m1, 0))*C3Product(l, m, 0, 1, 0, 0, l1, m1, 0)*muCoupling(l1, 1)*muCoupling(l1, 2) + 429*sqrt(6)*(I*Omega*m1*(3*q**4 - 35*r**4) + 7*r*(q**2 - 5*r**2))*C3Product(l, m, 0, l1, m1, -1, 1, 0, 1)*HertzFunc(l1, m1, 0)*muCoupling(l1, 2) + 429*sqrt(6)*(-3*I*Omega*m1*q**4 - 7*q**2*r + 35*r**3*(I*Omega*m1*r + 1))*C3Product(l, m, 0, 1, 0, -1, l1, m1, 1)*HertzDaggerFunc(l1, m1, 0)*muCoupling(l1, 2))/90090\n"
     ]
    }
   ],
   "source": [
    "expr=\"(Sqrt[Pi]*q*(143*Sqrt[30]*m1*Omega*q*((6*I)*r*(q^2 - 7*r^2) - m1*Omega*(q^4 - 21*r^4))*C3Product[l, m, 0, 2, 0, -2, l1, m1, 2]*HertzDaggerFunc[l1, m1, 0] - (286*I)*Sqrt[210]*q^2*(18*r + m1*Omega*(q^2*(I - m1*Omega*r) - 3*r^2*(-3*I + m1*Omega*r)))*C3Product[l, m, 0, 3, 0, -2, l1, m1, 2]*HertzDaggerFunc[l1, m1, 0] + 156*Sqrt[10]*m1*Omega*q^3*(-3*m1*Omega*q^2 + (11*I)*r)*C3Product[l, m, 0, 4, 0, -2, l1, m1, 2]*HertzDaggerFunc[l1, m1, 0] + 52*Sqrt[2310]*m1*Omega*q^4*(1 + I*m1*Omega*r)*C3Product[l, m, 0, 5, 0, -2, l1, m1, 2]*HertzDaggerFunc[l1, m1, 0] - 16*Sqrt[1365]*m1^2*Omega^2*q^5*C3Product[l, m, 0, 6, 0, -2, l1, m1, 2]*HertzDaggerFunc[l1, m1, 0] + 143*Sqrt[30]*m1*Omega*q*((6*I)*r*(q^2 - 7*r^2) - m1*Omega*(q^4 - 21*r^4))*C3Product[l, m, 0, l1, m1, -2, 2, 0, 2]*HertzFunc[l1, m1, 0] + (286*I)*Sqrt[210]*q^2*(18*r + m1*Omega*(q^2*(I - m1*Omega*r) - 3*r^2*(-3*I + m1*Omega*r)))*C3Product[l, m, 0, l1, m1, -2, 3, 0, 2]*HertzFunc[l1, m1, 0] + 156*Sqrt[10]*m1*Omega*q^3*(-3*m1*Omega*q^2 + (11*I)*r)*C3Product[l, m, 0, l1, m1, -2, 4, 0, 2]*HertzFunc[l1, m1, 0] + 52*Sqrt[2310]*m1*Omega*q^4*(-1 - I*m1*Omega*r)*C3Product[l, m, 0, l1, m1, -2, 5, 0, 2]*HertzFunc[l1, m1, 0] - 16*Sqrt[1365]*m1^2*Omega^2*q^5*C3Product[l, m, 0, l1, m1, -2, 6, 0, 2]*HertzFunc[l1, m1, 0] + 429*Sqrt[6]*((-3*I)*m1*Omega*q^4 - 7*q^2*r + 35*r^3*(1 + I*m1*Omega*r))*C3Product[l, m, 0, 1, 0, -1, l1, m1, 1]*HertzDaggerFunc[l1, m1, 0]*muCoupling[l1, 2] + (429*I)*Sqrt[30]*q*(7*r^2*(3 + (2*I)*m1*Omega*r) + q^2*(3 + (6*I)*m1*Omega*r))*C3Product[l, m, 0, 2, 0, -1, l1, m1, 1]*HertzDaggerFunc[l1, m1, 0]*muCoupling[l1, 2] + 572*Sqrt[21]*q^2*((-2*I)*m1*Omega*q^2 - 3*r)*C3Product[l, m, 0, 3, 0, -1, l1, m1, 1]*HertzDaggerFunc[l1, m1, 0]*muCoupling[l1, 2] + 1716*Sqrt[5]*q^3*(I - 2*m1*Omega*r)*C3Product[l, m, 0, 4, 0, -1, l1, m1, 1]*HertzDaggerFunc[l1, m1, 0]*muCoupling[l1, 2] - (104*I)*Sqrt[330]*m1*Omega*q^4*C3Product[l, m, 0, 5, 0, -1, l1, m1, 1]*HertzDaggerFunc[l1, m1, 0]*muCoupling[l1, 2] + 429*Sqrt[6]*(7*r*(q^2 - 5*r^2) + I*m1*Omega*(3*q^4 - 35*r^4))*C3Product[l, m, 0, l1, m1, -1, 1, 0, 1]*HertzFunc[l1, m1, 0]*muCoupling[l1, 2] + (429*I)*Sqrt[30]*q*(7*r^2*(3 + (2*I)*m1*Omega*r) + q^2*(3 + (6*I)*m1*Omega*r))*C3Product[l, m, 0, l1, m1, -1, 2, 0, 1]*HertzFunc[l1, m1, 0]*muCoupling[l1, 2] + 572*Sqrt[21]*q^2*((2*I)*m1*Omega*q^2 + 3*r)*C3Product[l, m, 0, l1, m1, -1, 3, 0, 1]*HertzFunc[l1, m1, 0]*muCoupling[l1, 2] + 1716*Sqrt[5]*q^3*(I - 2*m1*Omega*r)*C3Product[l, m, 0, l1, m1, -1, 4, 0, 1]*HertzFunc[l1, m1, 0]*muCoupling[l1, 2] + (104*I)*Sqrt[330]*m1*Omega*q^4*C3Product[l, m, 0, l1, m1, -1, 5, 0, 1]*HertzFunc[l1, m1, 0]*muCoupling[l1, 2] + (3003*I)*Sqrt[3]*r*(3*q^2 + 5*r^2)*C3Product[l, m, 0, 1, 0, 0, l1, m1, 0]*(-HertzDaggerFunc[l1, m1, 0] + HertzFunc[l1, m1, 0])*muCoupling[l1, 1]*muCoupling[l1, 2] + (2574*I)*Sqrt[7]*q^2*r*C3Product[l, m, 0, 3, 0, 0, l1, m1, 0]*(-HertzDaggerFunc[l1, m1, 0] + HertzFunc[l1, m1, 0])*muCoupling[l1, 1]*muCoupling[l1, 2] + 2574*Sqrt[5]*q^3*C3Product[l, m, 0, 2, 0, 0, l1, m1, 0]*(HertzDaggerFunc[l1, m1, 0] + HertzFunc[l1, m1, 0])*muCoupling[l1, 1]*muCoupling[l1, 2] + 1716*q^3*C3Product[l, m, 0, 4, 0, 0, l1, m1, 0]*(HertzDaggerFunc[l1, m1, 0] + HertzFunc[l1, m1, 0])*muCoupling[l1, 1]*muCoupling[l1, 2]))/90090\"\n",
    "math_expr=parse_mathematica(expr)\n",
    "print(math_expr)"
   ]
  },
  {
   "attachments": {},
   "cell_type": "markdown",
   "metadata": {},
   "source": [
    "## $h_{23}$"
   ]
  },
  {
   "cell_type": "code",
   "execution_count": null,
   "metadata": {},
   "outputs": [
    {
     "name": "stdout",
     "output_type": "stream",
     "text": [
      "sqrt(2)*((q**2 + 3*r**2)*(q**2 + r*(r - 2))*HertzDaggerFunc(l, m, 1) + (-I*Omega*m*(q**2 + r**2)*(q**2 + 3*r**2) - 6*r*(q**2 + r*(r - 2)))*HertzDaggerFunc(l, m, 0))*muCoupling(l, 2)/(24*(q**2 + r*(r - 2)))\n"
     ]
    }
   ],
   "source": [
    "expr=\"(((-6*r*(q^2 + (-2 + r)*r) - I*m*Omega*(q^2 + r^2)*(q^2 + 3*r^2))*HertzDaggerFunc[l, m, 0] + (q^2 + (-2 + r)*r)*(q^2 + 3*r^2)*HertzDaggerFunc[l, m, 1])*muCoupling[l, 2])/(12*Sqrt[2]*(q^2 + (-2 + r)*r))\"\n",
    "math_expr=parse_mathematica(expr)\n",
    "print(math_expr)"
   ]
  },
  {
   "cell_type": "code",
   "execution_count": null,
   "metadata": {},
   "outputs": [
    {
     "name": "stdout",
     "output_type": "stream",
     "text": [
      "sqrt(pi)*q*(7*sqrt(3)*Omega*m1*(-Omega*m1*(q**2 + r**2)*(q**2 + 5*r**2)*HertzDaggerFunc(l1, m1, 0) - I*(q**2 + r*(r - 2))*(-10*r*HertzDaggerFunc(l1, m1, 0) + (q**2 + 5*r**2)*HertzDaggerFunc(l1, m1, 1)))*C3Product(l, m, 1, 1, 0, -1, l1, m1, 2) + q*(Omega*m1*(q**2 + r**2)*HertzDaggerFunc(l1, m1, 0) + I*(q**2 + r*(r - 2))*HertzDaggerFunc(l1, m1, 1))*(-2*sqrt(42)*Omega*m1*q*C3Product(l, m, 1, 3, 0, -1, l1, m1, 2) + 14*sqrt(15)*C3Product(l, m, 1, 2, 0, -1, l1, m1, 2) - 7*sqrt(10)*I*C3Product(l, m, 1, 2, 0, 0, l1, m1, 1)*muCoupling(l1, 2)))/(210*q**2 + 210*r*(r - 2))\n"
     ]
    }
   ],
   "source": [
    "expr=\"(Sqrt[Pi]*q*(7*Sqrt[3]*m1*Omega*C3Product[l, m, 1, 1, 0, -1, l1, m1, 2]*(-(m1*Omega*(q^2 + r^2)*(q^2 + 5*r^2)*HertzDaggerFunc[l1, m1, 0]) - I*(q^2 + (-2 + r)*r)*(-10*r*HertzDaggerFunc[l1, m1, 0] + (q^2 + 5*r^2)*HertzDaggerFunc[l1, m1, 1])) + q*(m1*Omega*(q^2 + r^2)*HertzDaggerFunc[l1, m1, 0] + I*(q^2 + (-2 + r)*r)*HertzDaggerFunc[l1, m1, 1])*(14*Sqrt[15]*C3Product[l, m, 1, 2, 0, -1, l1, m1, 2] - 2*Sqrt[42]*m1*Omega*q*C3Product[l, m, 1, 3, 0, -1, l1, m1, 2] - (7*I)*Sqrt[10]*C3Product[l, m, 1, 2, 0, 0, l1, m1, 1]*muCoupling[l1, 2])))/(210*(q^2 + (-2 + r)*r))\"\n",
    "math_expr=parse_mathematica(expr)\n",
    "print(math_expr)"
   ]
  },
  {
   "attachments": {},
   "cell_type": "markdown",
   "metadata": {},
   "source": [
    "## $h_{24}$"
   ]
  },
  {
   "cell_type": "code",
   "execution_count": null,
   "metadata": {},
   "outputs": [
    {
     "name": "stdout",
     "output_type": "stream",
     "text": [
      "sqrt(2)*(-(q**2 + 3*r**2)*(q**2 + r*(r - 2))*HertzFunc(l, m, 1) + (I*Omega*m*(q**2 + r**2)*(q**2 + 3*r**2) + 6*r*(q**2 + r*(r - 2)))*HertzFunc(l, m, 0))*muCoupling(l, 2)/(24*(q**2 + r*(r - 2)))\n"
     ]
    }
   ],
   "source": [
    "expr=\"(((6*r*(q^2 + (-2 + r)*r) + I*m*Omega*(q^2 + r^2)*(q^2 + 3*r^2))*HertzFunc[l, m, 0] - (q^2 + (-2 + r)*r)*(q^2 + 3*r^2)*HertzFunc[l, m, 1])*muCoupling[l, 2])/(12*Sqrt[2]*(q^2 + (-2 + r)*r))\"\n",
    "math_expr=parse_mathematica(expr)\n",
    "print(math_expr)"
   ]
  },
  {
   "cell_type": "code",
   "execution_count": null,
   "metadata": {},
   "outputs": [
    {
     "name": "stdout",
     "output_type": "stream",
     "text": [
      "sqrt(pi)*q*(7*sqrt(3)*Omega*m1*(-Omega*m1*(q**2 + r**2)*(q**2 + 5*r**2)*HertzFunc(l1, m1, 0) - I*(q**2 + r*(r - 2))*(-10*r*HertzFunc(l1, m1, 0) + (q**2 + 5*r**2)*HertzFunc(l1, m1, 1)))*C3Product(l, m, -1, l1, m1, -2, 1, 0, 1) - q*(Omega*m1*(q**2 + r**2)*HertzFunc(l1, m1, 0) + I*(q**2 + r*(r - 2))*HertzFunc(l1, m1, 1))*(2*sqrt(42)*Omega*m1*q*C3Product(l, m, -1, l1, m1, -2, 3, 0, 1) + 14*sqrt(15)*C3Product(l, m, -1, l1, m1, -2, 2, 0, 1) - 7*sqrt(10)*I*C3Product(l, m, -1, l1, m1, -1, 2, 0, 0)*muCoupling(l1, 2)))/(210*q**2 + 210*r*(r - 2))\n"
     ]
    }
   ],
   "source": [
    "expr=\"(Sqrt[Pi]*q*(7*Sqrt[3]*m1*Omega*C3Product[l, m, -1, l1, m1, -2, 1, 0, 1]*(-(m1*Omega*(q^2 + r^2)*(q^2 + 5*r^2)*HertzFunc[l1, m1, 0]) - I*(q^2 + (-2 + r)*r)*(-10*r*HertzFunc[l1, m1, 0] + (q^2 + 5*r^2)*HertzFunc[l1, m1, 1])) - q*(m1*Omega*(q^2 + r^2)*HertzFunc[l1, m1, 0] + I*(q^2 + (-2 + r)*r)*HertzFunc[l1, m1, 1])*(14*Sqrt[15]*C3Product[l, m, -1, l1, m1, -2, 2, 0, 1] + 2*Sqrt[42]*m1*Omega*q*C3Product[l, m, -1, l1, m1, -2, 3, 0, 1] - (7*I)*Sqrt[10]*C3Product[l, m, -1, l1, m1, -1, 2, 0, 0]*muCoupling[l1, 2])))/(210*(q^2 + (-2 + r)*r))\"\n",
    "math_expr=parse_mathematica(expr)\n",
    "print(math_expr)"
   ]
  },
  {
   "attachments": {},
   "cell_type": "markdown",
   "metadata": {},
   "source": [
    "## $h_{33}$"
   ]
  },
  {
   "cell_type": "code",
   "execution_count": null,
   "metadata": {},
   "outputs": [
    {
     "name": "stdout",
     "output_type": "stream",
     "text": [
      "(-Omega*m*(q**4*(Omega*m*r - 2*I) + 2*q**2*r*(r*(Omega*m*r - 2*I) + 3*I) + r**3*(r*(Omega*m*r - 2*I) + 2*I))*HertzDaggerFunc(l, m, 0) + (q**2 + r*(r - 2))*(r*(q**2 + r*(r - 2))*HertzDaggerFunc(l, m, 2) + (4*r - 2*I*(q**2 + r**2)*(Omega*m*r - I))*HertzDaggerFunc(l, m, 1)))/(4*(q**2 + r*(r - 2))**2)\n"
     ]
    }
   ],
   "source": [
    "expr=\"(-(m*Omega*(q^4*(-2*I + m*Omega*r) + r^3*(2*I + r*(-2*I + m*Omega*r)) + 2*q^2*r*(3*I + r*(-2*I + m*Omega*r)))*HertzDaggerFunc[l, m, 0]) + (q^2 + (-2 + r)*r)*((4*r - (2*I)*(-I + m*Omega*r)*(q^2 + r^2))*HertzDaggerFunc[l, m, 1] + r*(q^2 + (-2 + r)*r)*HertzDaggerFunc[l, m, 2]))/(4*(q^2 + (-2 + r)*r)^2)\"\n",
    "math_expr=parse_mathematica(expr)\n",
    "print(math_expr)"
   ]
  },
  {
   "cell_type": "code",
   "execution_count": null,
   "metadata": {},
   "outputs": [
    {
     "name": "stdout",
     "output_type": "stream",
     "text": [
      "-sqrt(3)*I*sqrt(pi)*q*(Omega**2*m1**2*(q**2 + r**2)**2*HertzDaggerFunc(l1, m1, 0) + 2*I*Omega*m1*(q - r)*(q + r)*HertzDaggerFunc(l1, m1, 0) + (q**2 + r*(r - 2))*(2*I*Omega*m1*(q**2 + r**2)*HertzDaggerFunc(l1, m1, 1) - (q**2 + r*(r - 2))*HertzDaggerFunc(l1, m1, 2)))*C3Product(l, m, 2, 1, 0, 0, l1, m1, 2)/(6*(q**2 + r*(r - 2))**2)\n"
     ]
    }
   ],
   "source": [
    "expr=\"((-1/2*I)*Sqrt[Pi/3]*q*C3Product[l, m, 2, 1, 0, 0, l1, m1, 2]*((2*I)*m1*Omega*(q - r)*(q + r)*HertzDaggerFunc[l1, m1, 0] + m1^2*Omega^2*(q^2 + r^2)^2*HertzDaggerFunc[l1, m1, 0] + (q^2 + (-2 + r)*r)*((2*I)*m1*Omega*(q^2 + r^2)*HertzDaggerFunc[l1, m1, 1] - (q^2 + (-2 + r)*r)*HertzDaggerFunc[l1, m1, 2])))/(q^2 + (-2 + r)*r)^2\"\n",
    "math_expr=parse_mathematica(expr)\n",
    "print(math_expr)"
   ]
  },
  {
   "attachments": {},
   "cell_type": "markdown",
   "metadata": {},
   "source": [
    "## $h_{44}$"
   ]
  },
  {
   "cell_type": "code",
   "execution_count": null,
   "metadata": {},
   "outputs": [
    {
     "name": "stdout",
     "output_type": "stream",
     "text": [
      "(-Omega*m*(q**4*(Omega*m*r - 2*I) + 2*q**2*r*(r*(Omega*m*r - 2*I) + 3*I) + r**3*(r*(Omega*m*r - 2*I) + 2*I))*HertzFunc(l, m, 0) + (q**2 + r*(r - 2))*(r*(q**2 + r*(r - 2))*HertzFunc(l, m, 2) + (4*r - 2*I*(q**2 + r**2)*(Omega*m*r - I))*HertzFunc(l, m, 1)))/(4*(q**2 + r*(r - 2))**2)\n"
     ]
    }
   ],
   "source": [
    "expr=\"(-(m*Omega*(q^4*(-2*I + m*Omega*r) + r^3*(2*I + r*(-2*I + m*Omega*r)) + 2*q^2*r*(3*I + r*(-2*I + m*Omega*r)))*HertzFunc[l, m, 0]) + (q^2 + (-2 + r)*r)*((4*r - (2*I)*(-I + m*Omega*r)*(q^2 + r^2))*HertzFunc[l, m, 1] + r*(q^2 + (-2 + r)*r)*HertzFunc[l, m, 2]))/(4*(q^2 + (-2 + r)*r)^2)\"\n",
    "math_expr=parse_mathematica(expr)\n",
    "print(math_expr)"
   ]
  },
  {
   "cell_type": "code",
   "execution_count": null,
   "metadata": {},
   "outputs": [
    {
     "name": "stdout",
     "output_type": "stream",
     "text": [
      "sqrt(3)*I*sqrt(pi)*q*(Omega**2*m1**2*(q**2 + r**2)**2*HertzFunc(l1, m1, 0) + 2*I*Omega*m1*(q - r)*(q + r)*HertzFunc(l1, m1, 0) + (q**2 + r*(r - 2))*(2*I*Omega*m1*(q**2 + r**2)*HertzFunc(l1, m1, 1) - (q**2 + r*(r - 2))*HertzFunc(l1, m1, 2)))*C3Product(l, m, -2, l1, m1, -2, 1, 0, 0)/(6*(q**2 + r*(r - 2))**2)\n"
     ]
    }
   ],
   "source": [
    "expr=\"((I/2)*Sqrt[Pi/3]*q*C3Product[l, m, -2, l1, m1, -2, 1, 0, 0]*((2*I)*m1*Omega*(q - r)*(q + r)*HertzFunc[l1, m1, 0] + m1^2*Omega^2*(q^2 + r^2)^2*HertzFunc[l1, m1, 0] + (q^2 + (-2 + r)*r)*((2*I)*m1*Omega*(q^2 + r^2)*HertzFunc[l1, m1, 1] - (q^2 + (-2 + r)*r)*HertzFunc[l1, m1, 2])))/(q^2 + (-2 + r)*r)^2\"\n",
    "math_expr=parse_mathematica(expr)\n",
    "print(math_expr)"
   ]
  },
  {
   "cell_type": "code",
   "execution_count": null,
   "metadata": {},
   "outputs": [],
   "source": []
  }
 ],
 "metadata": {
  "kernelspec": {
   "display_name": "base",
   "language": "python",
   "name": "python3"
  },
  "language_info": {
   "codemirror_mode": {
    "name": "ipython",
    "version": 3
   },
   "file_extension": ".py",
   "mimetype": "text/x-python",
   "name": "python",
   "nbconvert_exporter": "python",
   "pygments_lexer": "ipython3",
   "version": "3.8.16"
  },
  "orig_nbformat": 4,
  "vscode": {
   "interpreter": {
    "hash": "3661685d5c839a1822c798a1c9be5adc910ded0a7b29972d16df8710e87310df"
   }
  }
 },
 "nbformat": 4,
 "nbformat_minor": 2
}

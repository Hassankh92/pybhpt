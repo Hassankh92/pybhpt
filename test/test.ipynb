{
 "cells": [
  {
   "cell_type": "code",
   "execution_count": 39,
   "metadata": {},
   "outputs": [],
   "source": [
    "from pybhpt.geo import KerrGeodesic\n",
    "from pybhpt.radial import RadialTeukolsky, teukolsky_starobinsky_const, teukolsky_starobinsky_const_squared, teukolsky_starobinsky_transformation_amplitude\n",
    "from pybhpt.teuk import TeukolskyMode\n",
    "from pybhpt.hertz import HertzMode\n",
    "import numpy as np\n",
    "import matplotlib.pyplot as plt"
   ]
  },
  {
   "cell_type": "code",
   "execution_count": 72,
   "metadata": {},
   "outputs": [],
   "source": [
    "m = 2\n",
    "geo = KerrGeodesic(0.5, 10., 0., 1.0, 2**2)\n",
    "lmodes = np.arange(m, 30)\n",
    "jmodes = np.arange(m, 50)\n",
    "hertz_in = np.zeros((lmodes.shape[0], 3), dtype=np.complex128)\n",
    "hertz_up = np.zeros((lmodes.shape[0], 3), dtype=np.complex128)\n",
    "dhertz_in = np.zeros((lmodes.shape[0], 3), dtype=np.complex128)\n",
    "dhertz_up = np.zeros((lmodes.shape[0], 3), dtype=np.complex128)\n",
    "ddhertz_in = np.zeros((lmodes.shape[0], 3), dtype=np.complex128)\n",
    "ddhertz_up = np.zeros((lmodes.shape[0], 3), dtype=np.complex128)\n",
    "for j in jmodes:\n",
    "    teuk = TeukolskyMode(-2, j, m, 0, 0, geo)\n",
    "    teuk.solve(geo)\n",
    "    hertz = HertzMode(teuk, \"IRG\")\n",
    "    hertz.solve()\n",
    "    Rright = RadialTeukolsky(teuk.blackholespin, -2, j, m, teuk.frequency, np.array([10., 14., 20.]))\n",
    "    Rleft = RadialTeukolsky(teuk.blackholespin, -2, j, m, teuk.frequency, np.array([6., 8., 10.]))\n",
    "    Rright.solve(bc='Up')\n",
    "    Rleft.solve(bc='In')\n",
    "    Rup = np.array([Rright.solution('Up', i) for i in range(3)])\n",
    "    Rin = np.array([Rleft.solution('In', i) for i in range(3)])\n",
    "    dRup = np.array([Rright.derivative('Up', i) for i in range(3)])\n",
    "    dRin = np.array([Rleft.derivative('In', i) for i in range(3)])\n",
    "    ddRup = np.array([Rright.derivative2('Up', i) for i in range(3)])\n",
    "    ddRin = np.array([Rleft.derivative2('In', i) for i in range(3)])\n",
    "    for l in lmodes:\n",
    "        PsiIn = hertz.couplingcoefficient(l)*hertz.hertz_amplitude('In')\n",
    "        hertz_in[l-m] += PsiIn*Rin\n",
    "        dhertz_in[l-m] += PsiIn*dRin\n",
    "        ddhertz_in[l-m] += PsiIn*ddRin\n",
    "        PsiUp = hertz.couplingcoefficient(l)*hertz.hertz_amplitude('Up')\n",
    "        hertz_up[l-m] += PsiUp*Rup\n",
    "        dhertz_up[l-m] += PsiUp*dRup\n",
    "        ddhertz_up[l-m] += PsiUp*ddRup"
   ]
  },
  {
   "cell_type": "code",
   "execution_count": 75,
   "metadata": {},
   "outputs": [
    {
     "data": {
      "image/png": "[encoded data removed]",
      "text/plain": [
       "<Figure size 640x480 with 1 Axes>"
      ]
     },
     "metadata": {},
     "output_type": "display_data"
    }
   ],
   "source": [
    "plt.plot(np.abs(hertz_up[:, 0]))\n",
    "plt.yscale('log')\n",
    "plt.xscale('log')"
   ]
  },
  {
   "cell_type": "code",
   "execution_count": 88,
   "metadata": {},
   "outputs": [
    {
     "name": "stdout",
     "output_type": "stream",
     "text": [
      "(0.008763124395559884-0.0029491293311720355j) (0.47320871736023334-0.1592529838832898j) 0.018518518518518535\n"
     ]
    }
   ],
   "source": [
    "geo = KerrGeodesic(0., 6., 0., 1.0, 2**2)\n",
    "m = 2\n",
    "teuk = TeukolskyMode(-2, m, m, 0, 0, geo)\n",
    "teuk.solve(geo)\n",
    "print(teuk.teukolsky_amplitude('Up'),\n",
    "      teuk.teukolsky_amplitude('Up')/geo.mode_frequency(np.array([0, 0, m]))**2, \n",
    "      geo.mode_frequency(np.array([0, 0, m]))**2)"
   ]
  },
  {
   "cell_type": "code",
   "execution_count": 89,
   "metadata": {},
   "outputs": [
    {
     "name": "stdout",
     "output_type": "stream",
     "text": [
      "(0.007982096600532116-0.0027202774409996284j) (0.44582198449979793-0.15193495491593514j) 0.017904223833842214\n"
     ]
    }
   ],
   "source": [
    "geo = KerrGeodesic(0.25, 6., 0., 1.0, 2**2)\n",
    "m = 2\n",
    "teuk = TeukolskyMode(-2, m, m, 0, 0, geo)\n",
    "teuk.solve(geo)\n",
    "print(teuk.teukolsky_amplitude('Up'),\n",
    "      teuk.teukolsky_amplitude('Up')/geo.mode_frequency(np.array([0, 0, m]))**2, \n",
    "      geo.mode_frequency(np.array([0, 0, m]))**2)"
   ]
  },
  {
   "cell_type": "code",
   "execution_count": 69,
   "metadata": {},
   "outputs": [],
   "source": [
    "geo = KerrGeodesic(0., 7., 0., 1.0, 2**2)\n",
    "m = 2\n",
    "lmodes = np.arange(m, 16)\n",
    "jmodes = np.arange(m, 40)\n",
    "Zs = np.zeros(lmodes.shape[0], dtype=np.complex128)\n",
    "for j in jmodes:\n",
    "    teuk = TeukolskyMode(-2, j, m, 0, 0, geo)\n",
    "    teuk.solve(geo)\n",
    "    for l in lmodes:\n",
    "        Z = teuk.couplingcoefficient(l)*teuk.teukolsky_amplitude('Up')\n",
    "        Zs[l-m] += Z"
   ]
  },
  {
   "cell_type": "code",
   "execution_count": 70,
   "metadata": {},
   "outputs": [],
   "source": [
    "comparison=np.array([7.96233358e-01-2.64339239e-01j, 3.26116438e-02-1.78284989e-02j,\n",
    "       3.01992796e-03-1.94391386e-03j, 1.08462121e-04-7.90232072e-05j,\n",
    "       7.07885016e-06-5.62397831e-06j, 2.01742927e-07-1.72430029e-07j,\n",
    "       1.01260565e-08-9.18856175e-09j, 2.35628290e-10-2.25437583e-10j,\n",
    "       9.59773545e-12-9.61726001e-12j, 1.87893538e-13-1.96359571e-13j,\n",
    "       6.43702345e-15-6.98757969e-15j, 1.08572641e-16-1.22077267e-16j,\n",
    "       3.20890107e-18-3.72706056e-18j, 4.75046181e-20-5.68798318e-20j])"
   ]
  },
  {
   "cell_type": "code",
   "execution_count": 76,
   "metadata": {},
   "outputs": [
    {
     "data": {
      "text/plain": [
       "array([7.96216357e-01-2.64341290e-01j, 3.26116422e-02-1.78284971e-02j,\n",
       "       3.01992799e-03-1.94391369e-03j, 1.08462123e-04-7.90232012e-05j,\n",
       "       7.07885019e-06-5.62397786e-06j, 2.01742910e-07-1.72430002e-07j,\n",
       "       1.01260550e-08-9.18855955e-09j, 2.35628258e-10-2.25437525e-10j,\n",
       "       9.59773216e-12-9.61725596e-12j, 1.87893436e-13-1.96359453e-13j,\n",
       "       6.43701920e-15-6.98757466e-15j, 1.08572549e-16-1.22077157e-16j,\n",
       "       3.20889780e-18-3.72705656e-18j, 4.75045635e-20-5.68797632e-20j])"
      ]
     },
     "execution_count": 76,
     "metadata": {},
     "output_type": "execute_result"
    }
   ],
   "source": [
    "amps=2.*Zs/geo.mode_frequency(np.array([0, 0, m]))**2\n",
    "amps"
   ]
  },
  {
   "cell_type": "code",
   "execution_count": 77,
   "metadata": {},
   "outputs": [
    {
     "data": {
      "text/plain": [
       "array([2.04116255e-05, 6.48454731e-08, 4.81232187e-08, 4.66252132e-08,\n",
       "       4.94056901e-08, 1.19461309e-07, 1.92689837e-07, 2.05108803e-07,\n",
       "       3.83661618e-07, 5.74001920e-07, 6.93200252e-07, 8.75242815e-07,\n",
       "       1.04986158e-06, 1.18290575e-06])"
      ]
     },
     "execution_count": 77,
     "metadata": {},
     "output_type": "execute_result"
    }
   ],
   "source": [
    "np.abs(1-amps/comparison)"
   ]
  },
  {
   "cell_type": "code",
   "execution_count": null,
   "metadata": {},
   "outputs": [],
   "source": []
  }
 ],
 "metadata": {
  "kernelspec": {
   "display_name": "base",
   "language": "python",
   "name": "python3"
  },
  "language_info": {
   "codemirror_mode": {
    "name": "ipython",
    "version": 3
   },
   "file_extension": ".py",
   "mimetype": "text/x-python",
   "name": "python",
   "nbconvert_exporter": "python",
   "pygments_lexer": "ipython3",
   "version": "3.8.16"
  },
  "orig_nbformat": 4,
  "vscode": {
   "interpreter": {
    "hash": "3661685d5c839a1822c798a1c9be5adc910ded0a7b29972d16df8710e87310df"
   }
  }
 },
 "nbformat": 4,
 "nbformat_minor": 2
}
